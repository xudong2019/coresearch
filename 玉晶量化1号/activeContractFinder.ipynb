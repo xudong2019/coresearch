{
 "cells": [
  {
   "cell_type": "code",
   "execution_count": 1,
   "metadata": {},
   "outputs": [],
   "source": [
    "import sys\n",
    "sys.path.append(\"C:\\Program Files\\Tinysoft\\Analyse.NET\")\n",
    "sys.path.append(r\"C:\\Users\\xudong\\Documents\\guanzhao\\dataServer\")\n",
    "import pymongo\n",
    "import numpy as np\n",
    "import matplotlib.pyplot as plt\n",
    "import pickle\n",
    "import time\n",
    "import datetime\n",
    "import copy\n",
    "from funcs import *\n",
    "import pandas as pd\n",
    "from operator import itemgetter\n",
    "import TSLPy3 as tsl\n",
    "import matplotlib.pyplot as plt\n",
    "from scipy.spatial import ConvexHull, convex_hull_plot_2d\n",
    "import talib\n",
    "import matplotlib.dates as mdates\n",
    "from dateutil.relativedelta import relativedelta, WE\n",
    "\n",
    "np.set_printoptions(formatter={'float_kind': \"{:.6f}\".format})\n",
    "client = pymongo.MongoClient('localhost', 27017)\n",
    "db = client.quanLiang\n",
    "dbt = client.tinySoftData"
   ]
  },
  {
   "cell_type": "code",
   "execution_count": 2,
   "metadata": {},
   "outputs": [],
   "source": [
    "root = 'IC'"
   ]
  },
  {
   "cell_type": "code",
   "execution_count": 24,
   "metadata": {
    "scrolled": true
   },
   "outputs": [
    {
     "name": "stdout",
     "output_type": "stream",
     "text": [
      "[20200115, 20200219, 20200318, 20200415, 20200520, 20200617, 20200715, 20200819, 20200916, 20201021, 20201118, 20201216]\n"
     ]
    }
   ],
   "source": [
    "y = [2020]\n",
    "m = ['01','02','03','04','05','06','07','08','09','10','11','12']\n",
    "contractName = ['IC2002','IC2003','IC2004','IC2005','IC2006','IC2007','IC2008','IC2009','IC2010','IC2011','IC2012','IC2101']\n",
    "contractStart = []\n",
    "for q1 in y:\n",
    "    for q2 in m:\n",
    "        contractStart.append(int(datetime.datetime.strftime(datetime.datetime.strptime(str(q1)+q2+'15', '%Y%m%d')+ relativedelta(weekday=WE(1)),'%Y%m%d')))\n",
    "print(contractStart)\n"
   ]
  },
  {
   "cell_type": "code",
   "execution_count": null,
   "metadata": {},
   "outputs": [],
   "source": []
  }
 ],
 "metadata": {
  "kernelspec": {
   "display_name": "Python [conda env:research] *",
   "language": "python",
   "name": "conda-env-research-py"
  },
  "language_info": {
   "codemirror_mode": {
    "name": "ipython",
    "version": 3
   },
   "file_extension": ".py",
   "mimetype": "text/x-python",
   "name": "python",
   "nbconvert_exporter": "python",
   "pygments_lexer": "ipython3",
   "version": "3.7.7"
  }
 },
 "nbformat": 4,
 "nbformat_minor": 4
}
