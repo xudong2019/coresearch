{
 "cells": [
  {
   "cell_type": "code",
   "execution_count": 102,
   "metadata": {},
   "outputs": [],
   "source": [
    "strategy_name ='培宏量化1号'"
   ]
  },
  {
   "cell_type": "code",
   "execution_count": 103,
   "metadata": {},
   "outputs": [],
   "source": [
    "import sys\n",
    "sys.path.append(\"C:\\Program Files\\Tinysoft\\Analyse.NET\")\n",
    "sys.path.append(r\"C:\\Users\\xudong\\Documents\\github\\coresearch\\funcs\")\n",
    "import rschLib\n",
    "import pymongo\n",
    "import numpy as np\n",
    "import matplotlib.pyplot as plt\n",
    "import pickle\n",
    "import time\n",
    "import datetime\n",
    "import copy\n",
    "import pandas as pd\n",
    "from operator import itemgetter\n",
    "import TSLPy3 as tsl\n",
    "import matplotlib.pyplot as plt\n",
    "from scipy.spatial import ConvexHull, convex_hull_plot_2d\n",
    "import talib\n",
    "import matplotlib.dates as mdates\n",
    "\n",
    "np.set_printoptions(formatter={'float_kind': \"{:.6f}\".format})\n",
    "client = pymongo.MongoClient('localhost', 27017)\n",
    "db = client.quanLiang\n",
    "dbt = client.tinySoftData"
   ]
  },
  {
   "cell_type": "code",
   "execution_count": 104,
   "metadata": {},
   "outputs": [
    {
     "data": {
      "text/plain": [
       "'20201021 23:13:36'"
      ]
     },
     "execution_count": 104,
     "metadata": {},
     "output_type": "execute_result"
    }
   ],
   "source": [
    "def nowTime():\n",
    "    return int(time.strftime(\"%H%M%S\",time.localtime(time.time())))\n",
    "def nowString():\n",
    "    return time.strftime(\"%Y%m%d %H:%M:%S\",time.localtime(time.time()))\n",
    "nowTime()\n",
    "nowString()"
   ]
  },
  {
   "cell_type": "code",
   "execution_count": 105,
   "metadata": {},
   "outputs": [],
   "source": [
    "with open(r\"d:\\pkl\\dailyBarMtx.pkl\", 'rb+') as f:\n",
    "    z = pickle.load(f)\n",
    "dtes = z['dtes']\n",
    "dtes = np.array(dtes).astype(np.int)\n",
    "tkrs = list(z['tkrs'])\n",
    "open_mtx = z['open_mtx']\n",
    "high_mtx = z['high_mtx']\n",
    "low_mtx = z['low_mtx']\n",
    "close_mtx = z['close_mtx']\n",
    "\n",
    "k = close_mtx==0\n",
    "close_mtx = rschLib.zero2pre(close_mtx)\n",
    "open_mtx[k]=close_mtx[k]\n",
    "high_mtx[k]=close_mtx[k]\n",
    "low_mtx[k]=close_mtx[k]\n",
    "\n",
    "name = z['name']\n",
    "belong = z['belong']\n",
    "shenwan1 = z['shenwan1']\n",
    "shenwan2 = z['shenwan2']\n",
    "shenwan3 = z['shenwan3']\n",
    "vol_mtx = z['vol_mtx']\n",
    "amount_mtx = z['amount_mtx']"
   ]
  },
  {
   "cell_type": "code",
   "execution_count": 106,
   "metadata": {},
   "outputs": [
    {
     "name": "stderr",
     "output_type": "stream",
     "text": [
      "C:\\ProgramData\\Anaconda3\\envs\\research\\lib\\site-packages\\ipykernel_launcher.py:4: RuntimeWarning: divide by zero encountered in true_divide\n",
      "  after removing the cwd from sys.path.\n",
      "C:\\ProgramData\\Anaconda3\\envs\\research\\lib\\site-packages\\ipykernel_launcher.py:4: RuntimeWarning: invalid value encountered in true_divide\n",
      "  after removing the cwd from sys.path.\n"
     ]
    }
   ],
   "source": [
    "v = pd.DataFrame(vol_mtx)\n",
    "q = np.array(v.rolling(5,axis=1).mean())\n",
    "q = np.array(q)\n",
    "lb=vol_mtx[:, -1]/q[:,-2]\n",
    "lb[np.isfinite(lb)==False]=0"
   ]
  },
  {
   "cell_type": "code",
   "execution_count": 111,
   "metadata": {},
   "outputs": [
    {
     "name": "stderr",
     "output_type": "stream",
     "text": [
      "C:\\ProgramData\\Anaconda3\\envs\\research\\lib\\site-packages\\ipykernel_launcher.py:4: RuntimeWarning: invalid value encountered in true_divide\n",
      "  after removing the cwd from sys.path.\n",
      "C:\\ProgramData\\Anaconda3\\envs\\research\\lib\\site-packages\\ipykernel_launcher.py:9: RuntimeWarning: divide by zero encountered in true_divide\n",
      "  if __name__ == '__main__':\n"
     ]
    }
   ],
   "source": [
    "Wl = 500 # 当天收盘价格位于Wl日内的高低点相对位置\n",
    "preHighL = np.max(high_mtx[:, -Wl:], axis=1)\n",
    "preLowL = np.min(low_mtx[:, -Wl:], axis=1)\n",
    "priceLocL = (close_mtx[:,-1]-preLowL)/(preHighL-preLowL)\n",
    "# 1. 价格位置\n",
    "idxPriceLoc = priceLocL < 0.5\n",
    "namePriceLoc = name[idxPriceLoc]\n",
    "# 2. \n",
    "idxTiaoKongGaoKai = ((open_mtx[:,-1] / high_mtx[:,-2]) - 1) > 0.01\n",
    "nameTiaoKongGaoKai = name[idxTiaoKongGaoKai]\n",
    "# 3.\n",
    "nameMarketValue = [x['name'] for x in list(db.tkrsInfo.find({'tagCirculateMarketValueBiggerThan100Y':1}, {'name':1}))]\n",
    "# 4. 当天是上涨的\n",
    "nameIsUp = name[close_mtx[:, -1]>open_mtx[:, -1]]"
   ]
  },
  {
   "cell_type": "code",
   "execution_count": 112,
   "metadata": {},
   "outputs": [],
   "source": [
    "m = set(namePriceLoc).intersection(set(nameMarketValue)).intersection(set(nameTiaoKongGaoKai)).intersection(set(nameIsUp))\n",
    "lm = [tkrs[list(name).index(x)] for x in m]\n",
    "qt = list(dbt.minuteBarStock.find({'ticker':{'$in': list(lm)},'sale1':{'$gt':0},'dateAsInt':int(dtes[-1]),\"offSetFromMidNight\" :  5370e4}, {'ticker':1, 'close':1, 'open':1, 'sectional_open':1, 'lb':1, 'sale1':1, 'dateTime':1, 'StockName':1}).sort('lb',-1)) \n",
    "selectedName=[x['StockName'] for x in qt]"
   ]
  },
  {
   "cell_type": "code",
   "execution_count": 115,
   "metadata": {},
   "outputs": [
    {
     "name": "stdout",
     "output_type": "stream",
     "text": [
      "没有符合条件标的 (20201021)\n"
     ]
    },
    {
     "data": {
      "text/plain": [
       "<pymongo.results.InsertOneResult at 0x23301794e08>"
      ]
     },
     "execution_count": 115,
     "metadata": {},
     "output_type": "execute_result"
    }
   ],
   "source": [
    "if (len(selectedName)>0):\n",
    "    s='可交易标的:'\n",
    "    for x in selectedName:\n",
    "        s = s + x + ' '\n",
    "else:\n",
    "    s='没有符合条件标的'\n",
    "s = s+' ('+str(dtes[-1])+')'\n",
    "print(s)\n",
    "db.strategyEventRecords.insert_one({'strategy_name':strategy_name, 'updateTime':nowString(), 'content':s})\n",
    "      "
   ]
  }
 ],
 "metadata": {
  "kernelspec": {
   "display_name": "Python [conda env:research] *",
   "language": "python",
   "name": "conda-env-research-py"
  },
  "language_info": {
   "codemirror_mode": {
    "name": "ipython",
    "version": 3
   },
   "file_extension": ".py",
   "mimetype": "text/x-python",
   "name": "python",
   "nbconvert_exporter": "python",
   "pygments_lexer": "ipython3",
   "version": "3.7.7"
  }
 },
 "nbformat": 4,
 "nbformat_minor": 4
}
