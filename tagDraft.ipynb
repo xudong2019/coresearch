{
 "cells": [
  {
   "cell_type": "code",
   "execution_count": 1,
   "metadata": {},
   "outputs": [
    {
     "ename": "NameError",
     "evalue": "name 'maxD' is not defined",
     "output_type": "error",
     "traceback": [
      "\u001b[1;31m---------------------------------------------------------------------------\u001b[0m",
      "\u001b[1;31mNameError\u001b[0m                                 Traceback (most recent call last)",
      "\u001b[1;32m<ipython-input-1-f8c40e85b18a>\u001b[0m in \u001b[0;36m<module>\u001b[1;34m\u001b[0m\n\u001b[0;32m     21\u001b[0m \u001b[0mdtes\u001b[0m\u001b[1;33m,\u001b[0m \u001b[0mtkrs\u001b[0m\u001b[1;33m,\u001b[0m \u001b[0mname\u001b[0m\u001b[1;33m,\u001b[0m \u001b[0mopen_mtx\u001b[0m\u001b[1;33m,\u001b[0m \u001b[0mhigh_mtx\u001b[0m\u001b[1;33m,\u001b[0m \u001b[0mlow_mtx\u001b[0m\u001b[1;33m,\u001b[0m \u001b[0mclose_mtx\u001b[0m\u001b[1;33m,\u001b[0m\u001b[0mbelong\u001b[0m\u001b[1;33m,\u001b[0m \u001b[0mshenwan1\u001b[0m\u001b[1;33m,\u001b[0m \u001b[0mshenwan2\u001b[0m\u001b[1;33m,\u001b[0m \u001b[0mshenwan3\u001b[0m\u001b[1;33m,\u001b[0m \u001b[0mvol_mtx\u001b[0m\u001b[1;33m,\u001b[0m \u001b[0mamount_mtx\u001b[0m \u001b[1;33m=\u001b[0m \u001b[0mrschLib\u001b[0m\u001b[1;33m.\u001b[0m\u001b[0mloadDailyBarMtx\u001b[0m\u001b[1;33m(\u001b[0m\u001b[1;33m)\u001b[0m\u001b[1;33m\u001b[0m\u001b[1;33m\u001b[0m\u001b[0m\n\u001b[0;32m     22\u001b[0m \u001b[1;31m# get time labels\u001b[0m\u001b[1;33m\u001b[0m\u001b[1;33m\u001b[0m\u001b[1;33m\u001b[0m\u001b[0m\n\u001b[1;32m---> 23\u001b[1;33m \u001b[0mtimeAsFloat\u001b[0m\u001b[1;33m,\u001b[0m \u001b[0mtimeLabels\u001b[0m\u001b[1;33m,\u001b[0m \u001b[0mmaxM\u001b[0m\u001b[1;33m,\u001b[0m \u001b[0mdayOff\u001b[0m\u001b[1;33m,\u001b[0m \u001b[0mdayTimeAsFloat\u001b[0m \u001b[1;33m=\u001b[0m \u001b[0mrschLib\u001b[0m\u001b[1;33m.\u001b[0m\u001b[0mgetTimeLabels\u001b[0m\u001b[1;33m(\u001b[0m\u001b[0mmaxD\u001b[0m\u001b[1;33m)\u001b[0m\u001b[1;33m\u001b[0m\u001b[1;33m\u001b[0m\u001b[0m\n\u001b[0m",
      "\u001b[1;31mNameError\u001b[0m: name 'maxD' is not defined"
     ]
    }
   ],
   "source": [
    "import sys\n",
    "sys.path.append(\"C:\\Program Files\\Tinysoft\\Analyse.NET\")\n",
    "sys.path.append(r\"C:\\Users\\xudong\\Documents\\github\\coresearch\\funcs\")\n",
    "import pymongo\n",
    "import numpy as np\n",
    "import pickle\n",
    "import time\n",
    "import datetime\n",
    "import copy\n",
    "import pandas as pd\n",
    "from operator import itemgetter\n",
    "import TSLPy3 as tsl\n",
    "import matplotlib.pyplot as plt\n",
    "import matplotlib.dates as mdates\n",
    "from scipy.spatial import ConvexHull, convex_hull_plot_2d\n",
    "import talib\n",
    "import importlib\n",
    "import rschLib\n",
    "np.set_printoptions(formatter={'float_kind': \"{:.6f}\".format})\n",
    "dbt = rschLib.db_tinySoftData()\n",
    "dtes, tkrs, name, open_mtx, high_mtx, low_mtx, close_mtx,belong, shenwan1, shenwan2, shenwan3, vol_mtx, amount_mtx = rschLib.loadDailyBarMtx()\n",
    "# get time labels\n"
   ]
  },
  {
   "cell_type": "code",
   "execution_count": 3,
   "metadata": {},
   "outputs": [],
   "source": [
    "a, b, c = rschLib.getTagNames()"
   ]
  },
  {
   "cell_type": "code",
   "execution_count": 8,
   "metadata": {},
   "outputs": [],
   "source": [
    "s1 = 'tagIndustryBroker'\n",
    "s2 = 'tagNetProfitGrowth3YBiggerThan20P'"
   ]
  },
  {
   "cell_type": "code",
   "execution_count": 10,
   "metadata": {},
   "outputs": [],
   "source": [
    "import os\n"
   ]
  }
 ],
 "metadata": {
  "kernelspec": {
   "display_name": "Python [conda env:research] *",
   "language": "python",
   "name": "conda-env-research-py"
  },
  "language_info": {
   "codemirror_mode": {
    "name": "ipython",
    "version": 3
   },
   "file_extension": ".py",
   "mimetype": "text/x-python",
   "name": "python",
   "nbconvert_exporter": "python",
   "pygments_lexer": "ipython3",
   "version": "3.7.7"
  }
 },
 "nbformat": 4,
 "nbformat_minor": 4
}
