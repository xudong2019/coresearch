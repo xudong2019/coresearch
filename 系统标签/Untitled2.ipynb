{
 "cells": [
  {
   "cell_type": "code",
   "execution_count": 1,
   "metadata": {},
   "outputs": [
    {
     "name": "stdout",
     "output_type": "stream",
     "text": [
      "init success\n"
     ]
    }
   ],
   "source": [
    "import sys\n",
    "sys.path.append(\"C:\\Program Files\\Tinysoft\\Analyse.NET\")\n",
    "sys.path.append(r\"C:\\Users\\xudong\\Documents\\github\\coresearch\\funcs\")\n",
    "sys.path.append(r\"C:\\Users\\xudong\\Documents\\guanzhao\\dataserver\")\n",
    "import pymongo\n",
    "import numpy as np\n",
    "import pickle\n",
    "import time\n",
    "import datetime\n",
    "import copy\n",
    "import pandas as pd\n",
    "from operator import itemgetter\n",
    "import TSLPy3 as tsl\n",
    "import matplotlib.pyplot as plt\n",
    "import matplotlib.dates as mdates\n",
    "from scipy.spatial import ConvexHull, convex_hull_plot_2d\n",
    "import talib\n",
    "import importlib\n",
    "import rschLib\n",
    "from pylab import mpl\n",
    "from library.tags import tags\n"
   ]
  },
  {
   "cell_type": "code",
   "execution_count": 2,
   "metadata": {},
   "outputs": [],
   "source": [
    "importlib.reload(rschLib)\n",
    "strategy_names = [x['file'] for x in rschLib.tagDict().values()]\n",
    "offStarts = [x['off_start'] for x in rschLib.tagDict().values()]\n",
    "tagNames = list(rschLib.tagDict().keys())\n",
    "maxD = 5\n"
   ]
  },
  {
   "cell_type": "code",
   "execution_count": 4,
   "metadata": {},
   "outputs": [
    {
     "data": {
      "text/plain": [
       "['净利润增速连续三年大于20%',\n",
       " '季度净利润连续三年大于1亿',\n",
       " '跳空高开',\n",
       " '突破1年新高(开盘)',\n",
       " '突破3个月新高(开盘)',\n",
       " '均线多头排列',\n",
       " 'MACD的DIFF高于DEA',\n",
       " 'MACD的DIFF大于0',\n",
       " '交易量放大2倍',\n",
       " '流通市值大于100亿',\n",
       " '流通市值大于250亿',\n",
       " '流通市值大于500亿',\n",
       " '流通市值小于100亿']"
      ]
     },
     "execution_count": 4,
     "metadata": {},
     "output_type": "execute_result"
    }
   ],
   "source": [
    "tagNames[:13]"
   ]
  }
 ],
 "metadata": {
  "kernelspec": {
   "display_name": "Python [conda env:research] *",
   "language": "python",
   "name": "conda-env-research-py"
  },
  "language_info": {
   "codemirror_mode": {
    "name": "ipython",
    "version": 3
   },
   "file_extension": ".py",
   "mimetype": "text/x-python",
   "name": "python",
   "nbconvert_exporter": "python",
   "pygments_lexer": "ipython3",
   "version": "3.7.7"
  }
 },
 "nbformat": 4,
 "nbformat_minor": 4
}
