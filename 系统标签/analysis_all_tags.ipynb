{
 "cells": [
  {
   "cell_type": "code",
   "execution_count": 1,
   "metadata": {},
   "outputs": [],
   "source": [
    "maxD = 5\n",
    "inTime = 234\n",
    "otTime = 474"
   ]
  },
  {
   "cell_type": "code",
   "execution_count": 2,
   "metadata": {},
   "outputs": [],
   "source": [
    "import sys\n",
    "sys.path.append(\"C:\\Program Files\\Tinysoft\\Analyse.NET\")\n",
    "sys.path.append(r\"C:\\Users\\xudong\\Documents\\github\\coresearch\\funcs\")\n",
    "import pymongo\n",
    "import numpy as np\n",
    "import pickle\n",
    "import time\n",
    "import datetime\n",
    "import copy\n",
    "import pandas as pd\n",
    "from operator import itemgetter\n",
    "import TSLPy3 as tsl\n",
    "import matplotlib.pyplot as plt\n",
    "import matplotlib.dates as mdates\n",
    "from scipy.spatial import ConvexHull, convex_hull_plot_2d\n",
    "import talib\n",
    "import importlib\n",
    "import rschLib\n",
    "np.set_printoptions(formatter={'float_kind': \"{:.6f}\".format})\n",
    "client = pymongo.MongoClient('localhost', 27017)\n",
    "db = client.quanLiang\n",
    "dbt = client.tinySoftData\n",
    "dtes, tkrs, name, open_mtx, high_mtx, low_mtx, close_mtx,belong, shenwan1, shenwan2, shenwan3, vol_mtx, amount_mtx = rschLib.loadDailyBarMtx()\n",
    "# get time labels\n",
    "# get trades\n"
   ]
  },
  {
   "cell_type": "code",
   "execution_count": 3,
   "metadata": {},
   "outputs": [
    {
     "data": {
      "text/plain": [
       "<module 'rschLib' from 'C:\\\\Users\\\\xudong\\\\Documents\\\\github\\\\coresearch\\\\funcs\\\\rschLib.py'>"
      ]
     },
     "execution_count": 3,
     "metadata": {},
     "output_type": "execute_result"
    }
   ],
   "source": [
    "strategy_names = [x['file'] for x in rschLib.tagDict().values()]\n",
    "offStarts = [x['off_start'] for x in rschLib.tagDict().values()]\n",
    "importlib.reload(rschLib)"
   ]
  },
  {
   "cell_type": "code",
   "execution_count": 12,
   "metadata": {},
   "outputs": [],
   "source": [
    "def analyzeStrategy(strategy_name, offStart, dtes, name, tkrs):\n",
    "    timeAsFloat, timeLabels, maxM, dayOff = rschLib.getTimeLabels(maxD)\n",
    "    trades, tradesUsed, Po, r = rschLib.getTradesWithPklCache(strategy_name, name, tkrs, dtes, maxD, maxM)\n",
    "    # get trade samples by good/bad trades\n",
    "    tradeArea=[inTime,otTime]\n",
    "    result = rschLib.getTradeAnalysisSampleGroups(r, tradeArea)\n",
    "\n",
    "    # draw price change\n",
    "    rschLib.drawPriceChange(r, strategy_name, timeLabels=timeLabels, tp=tradeArea)\n",
    "    rschLib.drawPriceChange(result['rGood10'], strategy_name, timeLabels=timeLabels, title='盈利前10%交易', tp=tradeArea)\n",
    "    rschLib.drawPriceChange(result['rGood20'], strategy_name, timeLabels=timeLabels, title='盈利前20%交易', tp=tradeArea)\n",
    "    rschLib.drawPriceChange(result['rGood30'], strategy_name, timeLabels=timeLabels, title='盈利前30%交易', tp=tradeArea)\n",
    "    rschLib.drawPriceChange(result['rBad10'], strategy_name, timeLabels=timeLabels, title='亏损前10%交易', tp=tradeArea)\n",
    "    rschLib.drawPriceChange(result['rBad20'], strategy_name, timeLabels=timeLabels, title='亏损前20%交易', tp=tradeArea)\n",
    "    rschLib.drawPriceChange(result['rBad30'], strategy_name, timeLabels=timeLabels, title='亏损前30%交易', tp=tradeArea)\n",
    "    # analyze tags\n",
    "    #rschLib.analyzeTradeTags(tradesUsed, result['rGood10'], result['idxGood10'], '盈利前10%交易',strategy_name, dtes, tkrs, offStart)\n",
    "    #rschLib.analyzeTradeTags(tradesUsed, result['rGood20'], result['idxGood20'], '盈利前20%交易',strategy_name, dtes, tkrs, offStart)\n",
    "    #rschLib.analyzeTradeTags(tradesUsed, result['rGood30'], result['idxGood30'], '盈利前30%交易',strategy_name, dtes, tkrs, offStart)\n",
    "    #rschLib.analyzeTradeTags(tradesUsed, result['rBad10'], result['idxBad10'], '亏损前10%交易',strategy_name, dtes, tkrs, offStart)\n",
    "    #rschLib.analyzeTradeTags(tradesUsed, result['rBad20'], result['idxBad20'], '亏损前20%交易',strategy_name, dtes, tkrs, offStart)\n",
    "    #rschLib.analyzeTradeTags(tradesUsed, result['rBad30'], result['idxBad30'], '亏损前30%交易',strategy_name, dtes, tkrs, offStart)\n",
    "\n",
    "    #get tag names\n",
    "    tnames, tagNamesEn,t2 = rschLib.getTagNames()\n",
    "    idxOverLapTagList=rschLib.analyzeTradeTags(tradesUsed, r, list(range(len(tradesUsed))), '所有交易',strategy_name, dtes, tkrs, offStart)\n",
    "\n",
    "    #draw pnl and tag pnl\n",
    "    importlib.reload(rschLib)\n",
    "    [dtesByTrade, pnlByTrade]=rschLib.getPnl(dtes,tkrs, name, tradesUsed, inTime, otTime, dayOff, timeAsFloat, toDatabase='yes', strategy_name=strategy_name)\n",
    "    [dtesPnlAggr,pnlAggr, numTrades] = rschLib.aggregatePnlAndDtes(dtesByTrade, pnlByTrade)\n",
    "    rschLib.drawPNL(dtesPnlAggr, pnlAggr, dtes, strategy_name, toDatabase='yes')\n",
    "    for i in range(len(tnames)):\n",
    "        tagName = tnames[i]\n",
    "        [dtesWithTag, pnlWithTag,n] = rschLib.aggregatePnlAndDtes(dtesByTrade[idxOverLapTagList[i]],pnlByTrade[idxOverLapTagList[i]])\n",
    "        rschLib.drawPNL(dtesWithTag, pnlWithTag, dtes, strategy_name, toDatabase='yes', dateStart=dtesPnlAggr[0], pnlType=tagName)\n",
    "        rschLib.drawPNL(dtesWithTag, pnlWithTag, dtes, strategy_name+'+'+tagNamesEn[i], toDatabase='yes', dateStart=dtesPnlAggr[0], pnlType='pnl')\n",
    "\n",
    "    #analysis of number of trades vs performance\n",
    "    importlib.reload(rschLib)\n",
    "    rschLib.pnlVsNumtrades(pnlAggr, numTrades, strategy_name, toDatabase='yes')\n",
    "    rschLib.saveOffStart(strategy_name, offStart)"
   ]
  },
  {
   "cell_type": "code",
   "execution_count": null,
   "metadata": {
    "scrolled": false
   },
   "outputs": [
    {
     "name": "stdout",
     "output_type": "stream",
     "text": [
      "['净利润增速连续三年大于20%', '季度净利润连续三年大于1亿', '跳空高开', '突破1年新高(开盘)', '突破3个月新高(开盘)', '均线多头排列', 'MACD的DIFF高于DEA', 'MACD的DIFF大于0', '交易量放大2倍', '流通市值大于100亿', '流通市值大于250亿', '流通市值大于500亿', '流通市值小于100亿', '流通市值小于50亿', '流通市值小于25亿']\n",
      "所有交易 净利润增速连续三年大于20% 99.52\n",
      "所有交易 季度净利润连续三年大于1亿 20.32\n",
      "所有交易 跳空高开 2.79\n"
     ]
    }
   ],
   "source": [
    "importlib.reload(rschLib)\n",
    "for (i,strategy_name) in enumerate(strategy_names):\n",
    "    offStart = offStarts[i]\n",
    "    analyzeStrategy(strategy_name, offStart, dtes, name, tkrs)"
   ]
  }
 ],
 "metadata": {
  "kernelspec": {
   "display_name": "Python [conda env:research] *",
   "language": "python",
   "name": "conda-env-research-py"
  },
  "language_info": {
   "codemirror_mode": {
    "name": "ipython",
    "version": 3
   },
   "file_extension": ".py",
   "mimetype": "text/x-python",
   "name": "python",
   "nbconvert_exporter": "python",
   "pygments_lexer": "ipython3",
   "version": "3.7.7"
  }
 },
 "nbformat": 4,
 "nbformat_minor": 4
}
