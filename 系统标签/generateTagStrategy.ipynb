{
 "cells": [
  {
   "cell_type": "code",
   "execution_count": 1,
   "metadata": {},
   "outputs": [
    {
     "name": "stdout",
     "output_type": "stream",
     "text": [
      "init success\n"
     ]
    }
   ],
   "source": [
    "import sys\n",
    "sys.path.append(\"C:\\Program Files\\Tinysoft\\Analyse.NET\")\n",
    "sys.path.append(r\"C:\\Users\\xudong\\Documents\\github\\coresearch\\funcs\")\n",
    "sys.path.append(r\"C:\\Users\\xudong\\Documents\\guanzhao\\dataserver\")\n",
    "import pymongo\n",
    "import numpy as np\n",
    "import pickle\n",
    "import time\n",
    "import datetime\n",
    "import copy\n",
    "import pandas as pd\n",
    "from operator import itemgetter\n",
    "import TSLPy3 as tsl\n",
    "import matplotlib.pyplot as plt\n",
    "import matplotlib.dates as mdates\n",
    "from scipy.spatial import ConvexHull, convex_hull_plot_2d\n",
    "import talib\n",
    "import importlib\n",
    "import rschLib\n",
    "from pylab import mpl\n",
    "from library.tags import tags\n",
    "np.set_printoptions(formatter={'float_kind': \"{:.6f}\".format})\n",
    "\n",
    "db = rschLib.db_quanLiang()\n",
    "dbt = rschLib.db_tinySoftData()\n",
    "dtes, tkrs, name, open_mtx, high_mtx, low_mtx, close_mtx, belong, shenwan1, shenwan2, shenwan3, vol_mtx, amount_mtx = rschLib.loadDailyBarMtx(\"d:\\\\pklWeeklyUpdate\\\\\")\n"
   ]
  },
  {
   "cell_type": "code",
   "execution_count": 2,
   "metadata": {},
   "outputs": [],
   "source": [
    "def logTime(s):\n",
    "    print(s, datetime.datetime.now())\n",
    "\n",
    "def generateTagAnalysis(tagName):\n",
    "    print(tagName)\n",
    "    tname = rschLib.tagMapper(tagName)['file']\n",
    "    strategy_name = tname\n",
    "    db.strategyBackTest.remove({'strategy_name':strategy_name})\n",
    "    db.strategyBackTestTrades.remove({'strategy_name':strategy_name})\n",
    "    db.strategyBackTest.update_one({'strategy_name': strategy_name}, {'$set':{\n",
    "        'strategy_name':strategy_name\n",
    "        }},upsert=True)\n",
    "    startDate = 20180101\n",
    "    with open(\"d:\\\\pklWeeklyUpdate\\\\\" + tname + \".pkl\", 'rb+') as f:\n",
    "        tagInfo = pickle.load(f)\n",
    "    tag_mtx = tagInfo['tag_mtx']\n",
    "    off_start = rschLib.tagMapper(tagName)['off_start']\n",
    "    rschLib.saveOffStart(strategy_name, off_start)\n",
    "    tagNotNew = np.zeros(close_mtx.shape)\n",
    "    for i in range(close_mtx.shape[0]):\n",
    "        j = np.nonzero(close_mtx[i,:]>0)[0][0]\n",
    "        v = np.min((close_mtx.shape[1], j+60))\n",
    "        tagNotNew[i, v:]=1\n",
    "    tag_mtx = (tag_mtx==1) & (tagNotNew==1) # 去掉新股票\n",
    "    \n",
    "    dtesUsed = dtes[dtes>=startDate]\n",
    "    tag_mtxUsed = tag_mtx[:, dtes>=startDate]\n",
    "    for (i, x) in enumerate(dtesUsed):\n",
    "        q = name[tag_mtxUsed[:,i]==1]\n",
    "        tk = tkrs[tag_mtxUsed[:,i]==1]\n",
    "        query = []\n",
    "        for i, y in enumerate(q):\n",
    "            query.append({\n",
    "                'strategy_name':strategy_name,\n",
    "                'name':y,\n",
    "                'ticker':tk[i],\n",
    "                'dateIn':int(x)\n",
    "            })\n",
    "        if len(query)>0:\n",
    "            db.strategyBackTestTrades.insert_many(query)\n",
    "    rschLib.updateStrategyGeneratingStatus(strategy_name, '生成进度:10%。初始化标签。'+str(datetime.datetime.now()),10)\n",
    "    rschLib.updateStrategyPrivacy(strategy_name, 'public')\n",
    "    "
   ]
  },
  {
   "cell_type": "code",
   "execution_count": 3,
   "metadata": {},
   "outputs": [],
   "source": [
    "def analyzeStrategy(strategy_name, offStart, dtes, name, tkrs,maxD, inTime, otTime):\n",
    "    timeAsFloat, timeLabels, maxM, dayOff, dayTimeAsFloat = rschLib.getTimeLabels(maxD)\n",
    "    # get trades\n",
    "    R = open_mtx[:, 1:]/close_mtx[:,:-1]-1  #使用收盘到开盘的回报率来修正分红和拆股\n",
    "    R = np.hstack((np.zeros((R.shape[0],1)), R))\n",
    "    logTime('getTradesFast')\n",
    "    tradesUsed, r_withnan = rschLib.getTradesFast(strategy_name, name, tkrs, dtes, maxD, dayTimeAsFloat, R)\n",
    "    logTime('getTradesFast done')\n",
    "    # get trade samples by good/bad trades\n",
    "    tradeArea=[inTime,otTime]\n",
    "    r = r_withnan.copy()\n",
    "    r[np.isfinite(r)==False]=0\n",
    "    # draw price change\n",
    "    idxTradable = np.isfinite(r_withnan[:,tradeArea[0]])\n",
    "    logTime('getTradesAnalysisSampleGroups')\n",
    "    result = rschLib.getTradeAnalysisSampleGroups(r, idxTradable, tradeArea)\n",
    "    logTime('getTradesAnalysisSampleGroups done')\n",
    "    logTime('drawPriceChange')\n",
    "    rschLib.drawPriceChange(r[idxTradable,:], strategy_name, timeLabels=timeLabels, tp=tradeArea, showGraph='no')\n",
    "    rschLib.drawPriceChange(result['rGood10'], strategy_name, timeLabels=timeLabels, title='盈利前10%交易', tp=tradeArea, showGraph='no')\n",
    "    rschLib.drawPriceChange(result['rGood30'], strategy_name, timeLabels=timeLabels, title='盈利前30%交易', tp=tradeArea, showGraph='no')\n",
    "    rschLib.drawPriceChange(result['rBad10'], strategy_name, timeLabels=timeLabels, title='亏损前10%交易',  tp=tradeArea, showGraph='no')\n",
    "    rschLib.drawPriceChange(result['rBad30'], strategy_name, timeLabels=timeLabels, title='亏损前30%交易',  tp=tradeArea, showGraph='no')\n",
    "    rschLib.drawPriceChange(result['rDieting'], strategy_name, timeLabels=timeLabels, title='第一天跌停', tp=tradeArea, showGraph='no')\n",
    "    logTime('drawPriceChange done')\n",
    "    # analyze tags\n",
    "    #rschLib.analyzeTradeTags(tradesUsed, result['rGood10'], result['idxGood10'], '盈利前10%交易',strategy_name, dtes, tkrs, offStart,\"d:\\\\pklWeeklyUpdate\\\\\")\n",
    "    #rschLib.analyzeTradeTags(tradesUsed, result['rGood30'], result['idxGood30'], '盈利前30%交易',strategy_name, dtes, tkrs, offStart,\"d:\\\\pklWeeklyUpdate\\\\\")\n",
    "    #rschLib.analyzeTradeTags(tradesUsed, result['rBad10'], result['idxBad10'], '亏损前10%交易',strategy_name, dtes, tkrs, offStart,\"d:\\\\pklWeeklyUpdate\\\\\")\n",
    "    #rschLib.analyzeTradeTags(tradesUsed, result['rBad30'], result['idxBad30'], '亏损前30%交易',strategy_name, dtes, tkrs, offStart,\"d:\\\\pklWeeklyUpdate\\\\\")\n",
    "    #rschLib.analyzeTradeTags(tradesUsed, result['rDieting'], result['idxDieting'], '第一天跌停',strategy_name, dtes, tkrs, offStart,\"d:\\\\pklWeeklyUpdate\\\\\")\n",
    "    #get tag names\n",
    "    tnames, tagNamesEn,t2 = rschLib.getTagNames()\n",
    "    logTime('analyzeTradeTags')\n",
    "    idxOverLapTagList=rschLib.analyzeTradeTags(tradesUsed, r, list(range(len(tradesUsed))), '所有交易',strategy_name, dtes, tkrs, offStart, \"d:\\\\pklWeeklyUpdate\\\\\")\n",
    "    logTime('analyzeTradeTags done')\n",
    "    #draw pnl and tag pnl\n",
    "    importlib.reload(rschLib)\n",
    "    logTime('getPnlFast')\n",
    "    [dtesByTrade, pnlByTrade] = rschLib.getPnlFast(r, idxTradable, dtes, tkrs, name, tradesUsed, inTime, otTime, dayOff, timeAsFloat, toDatabase='yes', strategy_name=strategy_name)\n",
    "    logTime('getPnlFast done')\n",
    "    logTime('aggregatePnlAndDtes')\n",
    "    [dtesPnlAggr,pnlAggr, numTrades] = rschLib.aggregatePnlAndDtes(dtesByTrade, pnlByTrade)\n",
    "    logTime('aggregatePnlAndDtes done')\n",
    "    rschLib.drawPNL(dtesPnlAggr, pnlAggr, dtes, strategy_name,showFigure='no', toDatabase='yes')\n",
    "    for i in range(len(tnames)):\n",
    "        tagName = tnames[i]\n",
    "        [dtesWithTag, pnlWithTag,n] = rschLib.aggregatePnlAndDtes(dtesByTrade[idxOverLapTagList[i]],pnlByTrade[idxOverLapTagList[i]])\n",
    "        rschLib.drawPNL(dtesWithTag, pnlWithTag, dtes, strategy_name, showFigure='no', toDatabase='yes', dateStart=dtesPnlAggr[0], pnlType=tagName)\n",
    "        rschLib.drawPNL(dtesWithTag, pnlWithTag, dtes, strategy_name+'+'+tagNamesEn[i], showFigure='no',  toDatabase='yes', dateStart=dtesPnlAggr[0], pnlType='pnl')\n",
    "        # 求非涨停，以及伴随有tagName标签的交易，绘制价格变化曲线\n",
    "        idxTradableAndHasTag = list(np.intersect1d(np.nonzero(idxTradable)[0], np.array(idxOverLapTagList[i])))\n",
    "        rschLib.drawPriceChange(r[idxTradableAndHasTag,:], strategy_name, timeLabels=timeLabels, title=tagName,  tp=tradeArea, showGraph='no')\n",
    "    # control group and optimal group\n",
    "    [rawInTime, rawOtTime] = rschLib.getDefaultTradeTime(offStart)\n",
    "    idxTradableRaw = np.isfinite(r_withnan[:, rawInTime])\n",
    "    [dtesByTradeRaw, pnlByTradeRaw] = rschLib.getPnlFast(r, idxTradableRaw, dtes, tkrs, name, tradesUsed, rawInTime, rawOtTime, dayOff, timeAsFloat, toDatabase='yes', strategy_name=strategy_name)\n",
    "    [dtesPnlAggrRaw, pnlAggrRaw, numTradesRaw] = rschLib.aggregatePnlAndDtes(dtesByTradeRaw, pnlByTradeRaw)\n",
    "    rschLib.drawPNL(dtesPnlAggrRaw, pnlAggrRaw, dtes, strategy_name, showFigure='yes', toDatabase='yes', pnlType='rawPnl')\n",
    "    [bestInTime, bestOtTime] = rschLib.getOptimalTradeTime(r[idxTradable, :], rawInTime)\n",
    "    idxTradableBestInTime = np.isfinite(r_withnan[:, bestInTime])\n",
    "    [dtesByTradeBest, pnlByTradeBest] = rschLib.getPnlFast(r, idxTradableBestInTime, dtes, tkrs, name, tradesUsed, bestInTime, bestOtTime, dayOff, timeAsFloat, toDatabase='no', strategy_name=strategy_name)\n",
    "    [dtesPnlAggrBest, pnlAggrBest, k] = rschLib.aggregatePnlAndDtes(dtesByTradeBest, pnlByTradeBest)\n",
    "    rschLib.drawPNL(dtesPnlAggrBest, pnlAggrBest, dtes, strategy_name, showFigure='yes', toDatabase='yes', pnlType='optimalTradeTimePnl')\n",
    "    rschLib.updateStrategyBackTest(strategy_name, 'bestInTimePoint', int(bestInTime))\n",
    "    rschLib.updateStrategyBackTest(strategy_name, 'bestOtTimePoint', int(bestOtTime))\n",
    "    rschLib.updateStrategyBackTest(strategy_name, 'bestInTimeLabel', timeLabels[bestInTime])\n",
    "    rschLib.updateStrategyBackTest(strategy_name, 'bestOtTimeLabel', timeLabels[bestOtTime])\n",
    "    rschLib.updateStrategyBackTest(strategy_name, 'rawInTimePoint', int(rawInTime))\n",
    "    rschLib.updateStrategyBackTest(strategy_name, 'rawOtTimePoint', int(rawOtTime))\n",
    "    rschLib.updateStrategyBackTest(strategy_name, 'rawInTimeLabel', timeLabels[rawInTime])\n",
    "    rschLib.updateStrategyBackTest(strategy_name, 'rawOtTimeLabel', timeLabels[rawOtTime])\n",
    "    #analysis of number of trades vs performance\n",
    "    importlib.reload(rschLib)\n",
    "    rschLib.pnlVsNumtrades(pnlAggr, numTrades, strategy_name, toDatabase='yes')\n",
    "    rschLib.saveOffStart(strategy_name, offStart)\n",
    "    "
   ]
  },
  {
   "cell_type": "code",
   "execution_count": 4,
   "metadata": {},
   "outputs": [],
   "source": [
    "importlib.reload(rschLib)\n",
    "strategy_names = [x['file'] for x in rschLib.tagDict().values()]\n",
    "offStarts = [x['off_start'] for x in rschLib.tagDict().values()]\n",
    "tagNames = list(rschLib.tagDict().keys())\n",
    "maxD = 5\n"
   ]
  },
  {
   "cell_type": "code",
   "execution_count": null,
   "metadata": {
    "scrolled": false
   },
   "outputs": [
    {
     "name": "stdout",
     "output_type": "stream",
     "text": [
      "51\n",
      "5日乖离率正常\n"
     ]
    },
    {
     "name": "stderr",
     "output_type": "stream",
     "text": [
      "C:\\ProgramData\\Anaconda3\\envs\\research\\lib\\site-packages\\ipykernel_launcher.py:8: DeprecationWarning: remove is deprecated. Use delete_one or delete_many instead.\n",
      "  \n",
      "C:\\ProgramData\\Anaconda3\\envs\\research\\lib\\site-packages\\ipykernel_launcher.py:9: DeprecationWarning: remove is deprecated. Use delete_one or delete_many instead.\n",
      "  if __name__ == '__main__':\n",
      "C:\\ProgramData\\Anaconda3\\envs\\research\\lib\\site-packages\\ipykernel_launcher.py:4: RuntimeWarning: divide by zero encountered in true_divide\n",
      "  after removing the cwd from sys.path.\n",
      "C:\\ProgramData\\Anaconda3\\envs\\research\\lib\\site-packages\\ipykernel_launcher.py:4: RuntimeWarning: invalid value encountered in true_divide\n",
      "  after removing the cwd from sys.path.\n"
     ]
    },
    {
     "name": "stdout",
     "output_type": "stream",
     "text": [
      "getTradesFast 2020-12-14 17:17:10.733611\n"
     ]
    }
   ],
   "source": [
    "%load_ext line_profiler\n",
    "importlib.reload(rschLib)\n",
    "for (i,strategy_name) in enumerate(strategy_names):\n",
    "    if i<51:\n",
    "        continue\n",
    "    print(i)\n",
    "    importlib.reload(rschLib)\n",
    "    offStart = offStarts[i]\n",
    "    [inTime, otTime] = rschLib.getDefaultTradeTime(offStart)\n",
    "    generateTagAnalysis(tagNames[i])\n",
    "    analyzeStrategy(strategy_name, offStart, dtes, name, tkrs, maxD, inTime, otTime)\n"
   ]
  },
  {
   "cell_type": "code",
   "execution_count": 31,
   "metadata": {
    "scrolled": true
   },
   "outputs": [],
   "source": [
    "# importlib.reload(rschLib)\n",
    "# %load_ext line_profiler\n",
    "# %lprun -f generateTagAnalysis generateTagAnalysis(tagName)"
   ]
  },
  {
   "cell_type": "code",
   "execution_count": null,
   "metadata": {},
   "outputs": [],
   "source": []
  }
 ],
 "metadata": {
  "kernelspec": {
   "display_name": "Python [conda env:research] *",
   "language": "python",
   "name": "conda-env-research-py"
  },
  "language_info": {
   "codemirror_mode": {
    "name": "ipython",
    "version": 3
   },
   "file_extension": ".py",
   "mimetype": "text/x-python",
   "name": "python",
   "nbconvert_exporter": "python",
   "pygments_lexer": "ipython3",
   "version": "3.7.7"
  }
 },
 "nbformat": 4,
 "nbformat_minor": 4
}
