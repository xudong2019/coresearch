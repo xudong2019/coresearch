{
 "cells": [
  {
   "cell_type": "code",
   "execution_count": 19,
   "metadata": {},
   "outputs": [],
   "source": [
    "strategy_name ='玉皇2号'\n",
    "off_start = ('close_mtx', 0)"
   ]
  },
  {
   "cell_type": "code",
   "execution_count": 20,
   "metadata": {},
   "outputs": [],
   "source": [
    "import sys\n",
    "sys.path.append(\"C:\\Program Files\\Tinysoft\\Analyse.NET\")\n",
    "sys.path.append(r\"C:\\Users\\xudong\\Documents\\github\\coresearch\\funcs\")\n",
    "import rschLib\n",
    "import pymongo\n",
    "import numpy as np\n",
    "import matplotlib.pyplot as plt\n",
    "import pickle\n",
    "import time\n",
    "import datetime\n",
    "import copy\n",
    "import pandas as pd\n",
    "from operator import itemgetter\n",
    "import TSLPy3 as tsl\n",
    "import matplotlib.pyplot as plt\n",
    "from scipy.spatial import ConvexHull, convex_hull_plot_2d\n",
    "import talib\n",
    "import matplotlib.dates as mdates\n",
    "\n",
    "np.set_printoptions(formatter={'float_kind': \"{:.6f}\".format})\n",
    "client = pymongo.MongoClient('localhost', 27017)\n",
    "db = rschLib.db_quanLiang()\n",
    "dbt = rschLib.db_tinySoftData()"
   ]
  },
  {
   "cell_type": "code",
   "execution_count": 21,
   "metadata": {},
   "outputs": [],
   "source": [
    "#参数：\n",
    "startDate = 20180101"
   ]
  },
  {
   "cell_type": "code",
   "execution_count": 22,
   "metadata": {},
   "outputs": [],
   "source": [
    "def dtes2Label(dtes):\n",
    "    return np.array([datetime.datetime.strptime(str(d), '%Y%m%d').date() for d in dtes])\n"
   ]
  },
  {
   "cell_type": "code",
   "execution_count": 23,
   "metadata": {},
   "outputs": [],
   "source": [
    "plt.rcParams['font.sans-serif'] = [u'SimHei']\n",
    "plt.rcParams['axes.unicode_minus'] = False\n",
    "default_dpi = plt.rcParamsDefault['figure.dpi']\n",
    "plt.rcParams['figure.dpi'] = default_dpi*1"
   ]
  },
  {
   "cell_type": "code",
   "execution_count": 24,
   "metadata": {},
   "outputs": [],
   "source": [
    "with open(r\"d:\\pkl\\dailyBarMtx.pkl\", 'rb+') as f:\n",
    "    z = pickle.load(f)\n",
    "dtes = z['dtes']\n",
    "dtes = np.array(dtes).astype(np.int)\n",
    "tkrs = list(z['tkrs'])\n",
    "open_mtx = z['open_mtx']\n",
    "high_mtx = z['high_mtx']\n",
    "low_mtx = z['low_mtx']\n",
    "close_mtx = z['close_mtx']\n",
    "\n",
    "k = close_mtx==0\n",
    "close_mtx = rschLib.zero2pre(close_mtx)\n",
    "open_mtx[k]=close_mtx[k]\n",
    "high_mtx[k]=close_mtx[k]\n",
    "low_mtx[k]=close_mtx[k]\n",
    "\n",
    "name = z['name']\n",
    "belong = z['belong']\n",
    "shenwan1 = z['shenwan1']\n",
    "shenwan2 = z['shenwan2']\n",
    "shenwan3 = z['shenwan3']\n",
    "vol_mtx = z['vol_mtx']\n",
    "amount_mtx = z['amount_mtx']"
   ]
  },
  {
   "cell_type": "code",
   "execution_count": 25,
   "metadata": {},
   "outputs": [
    {
     "name": "stderr",
     "output_type": "stream",
     "text": [
      "C:\\ProgramData\\Anaconda3\\envs\\research\\lib\\site-packages\\ipykernel_launcher.py:5: RuntimeWarning: divide by zero encountered in true_divide\n",
      "  \"\"\"\n",
      "C:\\ProgramData\\Anaconda3\\envs\\research\\lib\\site-packages\\ipykernel_launcher.py:5: RuntimeWarning: invalid value encountered in true_divide\n",
      "  \"\"\"\n"
     ]
    }
   ],
   "source": [
    "v = pd.DataFrame(vol_mtx)\n",
    "q = np.array(v.rolling(5,axis=1).mean())\n",
    "q = np.array(q)\n",
    "lb = np.zeros(vol_mtx.shape)+1\n",
    "lb[:,1:]=vol_mtx[:, 1:]/q[:,:-1]\n",
    "lb[np.isfinite(lb)==False]=0"
   ]
  },
  {
   "cell_type": "code",
   "execution_count": 26,
   "metadata": {},
   "outputs": [
    {
     "name": "stderr",
     "output_type": "stream",
     "text": [
      "C:\\ProgramData\\Anaconda3\\envs\\research\\lib\\site-packages\\ipykernel_launcher.py:1: RuntimeWarning: divide by zero encountered in true_divide\n",
      "  \"\"\"Entry point for launching an IPython kernel.\n",
      "C:\\ProgramData\\Anaconda3\\envs\\research\\lib\\site-packages\\ipykernel_launcher.py:1: RuntimeWarning: invalid value encountered in true_divide\n",
      "  \"\"\"Entry point for launching an IPython kernel.\n"
     ]
    }
   ],
   "source": [
    "idxTiaoKongGaoKai = np.hstack((np.zeros((open_mtx.shape[0],1))==1,((open_mtx[:,1:] / high_mtx[:,:-1]) - 1 > 0.01)))"
   ]
  },
  {
   "cell_type": "code",
   "execution_count": 27,
   "metadata": {},
   "outputs": [],
   "source": [
    "name = list(name)\n",
    "tkrs = list(tkrs)"
   ]
  },
  {
   "cell_type": "code",
   "execution_count": 28,
   "metadata": {},
   "outputs": [
    {
     "name": "stderr",
     "output_type": "stream",
     "text": [
      "C:\\ProgramData\\Anaconda3\\envs\\research\\lib\\site-packages\\ipykernel_launcher.py:12: RuntimeWarning: divide by zero encountered in true_divide\n",
      "  if sys.path[0] == '':\n",
      "C:\\ProgramData\\Anaconda3\\envs\\research\\lib\\site-packages\\ipykernel_launcher.py:12: RuntimeWarning: invalid value encountered in true_divide\n",
      "  if sys.path[0] == '':\n",
      "C:\\ProgramData\\Anaconda3\\envs\\research\\lib\\site-packages\\ipykernel_launcher.py:13: RuntimeWarning: divide by zero encountered in true_divide\n",
      "  del sys.path[0]\n",
      "C:\\ProgramData\\Anaconda3\\envs\\research\\lib\\site-packages\\ipykernel_launcher.py:13: RuntimeWarning: invalid value encountered in true_divide\n",
      "  del sys.path[0]\n",
      "C:\\ProgramData\\Anaconda3\\envs\\research\\lib\\site-packages\\ipykernel_launcher.py:20: RuntimeWarning: invalid value encountered in true_divide\n",
      "C:\\ProgramData\\Anaconda3\\envs\\research\\lib\\site-packages\\ipykernel_launcher.py:25: RuntimeWarning: invalid value encountered in true_divide\n"
     ]
    }
   ],
   "source": [
    "Ns = 10 # 取每天量比的前多少名\n",
    "Wl = 500 # 当天收盘价格位于Wl日内的高低点相对位置\n",
    "Ws = 20 #  当天收盘价格位于Ws日内的高低点相对位置\n",
    "priceLocL = np.array(np.zeros(close_mtx.shape)) #较长时间内的价格位置\n",
    "priceLocS = np.array(np.zeros(close_mtx.shape)) #较短时间内的价格位置\n",
    "preHighL = np.array(np.zeros(close_mtx.shape))\n",
    "preLowL = np.array(np.zeros(close_mtx.shape))\n",
    "preHighS = np.array(np.zeros(close_mtx.shape))\n",
    "preLowS = np.array(np.zeros(close_mtx.shape))\n",
    "idxZhangtingAtClose = np.array(np.zeros(close_mtx.shape), dtype='bool') # 收盘没有涨停\n",
    "idxZhangtingAtOpen = np.array(np.zeros(close_mtx.shape), dtype='bool') # 开盘没有涨停\n",
    "idxZhangtingAtClose[:, 1:] = (close_mtx[:, 1:] / close_mtx[:, :-1] - 1) > 0.095\n",
    "idxZhangtingAtOpen[:, 1:] = (open_mtx[:, 1:] / close_mtx[:, :-1] - 1) > 0.095\n",
    "\n",
    "for k in range(1,close_mtx.shape[1]):    \n",
    "    #长期价格位置\n",
    "    q = np.max((0, k-Wl))\n",
    "    preHighL[:, k] = np.max(high_mtx[:, q:k], axis=1)\n",
    "    preLowL[:, k] = np.min(low_mtx[:, q:k], axis=1)\n",
    "    priceLocL[:, k] = (close_mtx[:,k-1]-preLowL[:,k])/(preHighL[:,k]-preLowL[:,k])\n",
    "    #短期价格位置\n",
    "    q = np.max((0, k-Ws))\n",
    "    preHighS[:, k] = np.max(high_mtx[:, q:k], axis=1)\n",
    "    preLowS[:, k] = np.min(low_mtx[:, q:k], axis=1)\n",
    "    priceLocS[:, k] = (close_mtx[:,k-1]-preLowS[:,k])/(preHighS[:,k]-preLowS[:,k])\n",
    "    "
   ]
  },
  {
   "cell_type": "code",
   "execution_count": 29,
   "metadata": {},
   "outputs": [],
   "source": [
    "q = list(db.tkrsInfo.find({},{\n",
    "    'ticker':1,\n",
    "    'circulateMarketValue20150101':1,\n",
    "    'circulateMarketValue20160101':1,\n",
    "    'circulateMarketValue20170101':1,\n",
    "    'circulateMarketValue20180101':1,\n",
    "    'circulateMarketValue20190101':1,\n",
    "    'circulateMarketValue20200101':1,\n",
    "    'circulateMarketValue':1\n",
    "}))\n",
    "cmv2016 = np.zeros(len(tkrs))\n",
    "cmv2017 = np.zeros(len(tkrs))\n",
    "cmv2018 = np.zeros(len(tkrs))\n",
    "cmv2019 = np.zeros(len(tkrs))\n",
    "cmv2020 = np.zeros(len(tkrs))\n",
    "cmv = np.zeros(len(tkrs))\n",
    "for x in q:\n",
    "    if (x['ticker'] in list(tkrs))==False:\n",
    "        continue\n",
    "    if 'circulateMarketValue' in x:\n",
    "        cmv[list(tkrs).index(x['ticker'])]=x['circulateMarketValue']\n",
    "    if 'circulateMarketValue20160101' in x:\n",
    "        cmv2016[list(tkrs).index(x['ticker'])]=x['circulateMarketValue20160101']\n",
    "    if 'circulateMarketValue20170101' in x:\n",
    "        cmv2017[list(tkrs).index(x['ticker'])]=x['circulateMarketValue20170101']\n",
    "        cmv[list(tkrs).index(x['ticker'])]=x['circulateMarketValue']\n",
    "    if 'circulateMarketValue20180101' in x:\n",
    "        cmv2018[list(tkrs).index(x['ticker'])]=x['circulateMarketValue20180101']\n",
    "        cmv[list(tkrs).index(x['ticker'])]=x['circulateMarketValue']\n",
    "    if 'circulateMarketValue20190101' in x:\n",
    "        cmv2019[list(tkrs).index(x['ticker'])]=x['circulateMarketValue20190101']\n",
    "        cmv[list(tkrs).index(x['ticker'])]=x['circulateMarketValue']\n",
    "    if 'circulateMarketValue20200101' in x:\n",
    "        cmv2020[list(tkrs).index(x['ticker'])]=x['circulateMarketValue20200101']\n"
   ]
  },
  {
   "cell_type": "code",
   "execution_count": 30,
   "metadata": {},
   "outputs": [],
   "source": [
    "#cmv_threshold = 100e4\n",
    "#wants = list(np.array(tkrs)[cmv2020>cmv_threshold])\n",
    "#off = 1\n",
    "#print('选股池大小：', len(wants))\n",
    "#q = [list(tkrs).index(x) for x in wants]\n",
    "#idxT = [x in q for x in range(len(tkrs))]"
   ]
  },
  {
   "cell_type": "code",
   "execution_count": 31,
   "metadata": {},
   "outputs": [],
   "source": [
    "import pickle\n",
    "off = 1\n",
    "f = open(r'd:\\pkl\\tagMACDDiffAboveZero.pkl','rb')\n",
    "info = pickle.load(f)\n",
    "idxDif = info['tag_mtx']==1\n",
    "\n",
    "\n"
   ]
  },
  {
   "cell_type": "code",
   "execution_count": 32,
   "metadata": {},
   "outputs": [],
   "source": [
    "import pickle\n",
    "off = 1\n",
    "f = open(r'd:\\pkl\\tagCirculateMarketValueBiggerThan100Y.pkl','rb')\n",
    "info = pickle.load(f)\n",
    "cmv_tag = info['tag_mtx']\n",
    "idxT = cmv_tag == 1\n",
    "\n"
   ]
  },
  {
   "cell_type": "code",
   "execution_count": 33,
   "metadata": {},
   "outputs": [],
   "source": [
    "idxNST = [('ST' in x)==False for x in name]"
   ]
  },
  {
   "cell_type": "code",
   "execution_count": 34,
   "metadata": {},
   "outputs": [
    {
     "ename": "ValueError",
     "evalue": "operands could not be broadcast together with shapes (4712,3892) (4715,3893) ",
     "output_type": "error",
     "traceback": [
      "\u001b[1;31m------------------------------------------------------------------------\u001b[0m",
      "\u001b[1;31mValueError\u001b[0m                             Traceback (most recent call last)",
      "\u001b[1;32m<ipython-input-34-8c9b360b33dc>\u001b[0m in \u001b[0;36m<module>\u001b[1;34m\u001b[0m\n\u001b[0;32m      1\u001b[0m \u001b[0mstartDate\u001b[0m \u001b[1;33m=\u001b[0m \u001b[1;36m20180101\u001b[0m\u001b[1;33m\u001b[0m\u001b[1;33m\u001b[0m\u001b[0m\n\u001b[1;32m----> 2\u001b[1;33m \u001b[0midxM1\u001b[0m \u001b[1;33m=\u001b[0m \u001b[0midxT\u001b[0m \u001b[1;33m&\u001b[0m \u001b[0midxDif\u001b[0m\u001b[1;33m\u001b[0m\u001b[1;33m\u001b[0m\u001b[0m\n\u001b[0m\u001b[0;32m      3\u001b[0m \u001b[0midxM2\u001b[0m \u001b[1;33m=\u001b[0m \u001b[0midxT\u001b[0m\u001b[1;33m\u001b[0m\u001b[1;33m\u001b[0m\u001b[0m\n",
      "\u001b[1;31mValueError\u001b[0m: operands could not be broadcast together with shapes (4712,3892) (4715,3893) "
     ]
    }
   ],
   "source": [
    "startDate = 20180101\n",
    "idxM1 = idxT & idxDif\n",
    "idxM2 = idxT"
   ]
  },
  {
   "cell_type": "code",
   "execution_count": null,
   "metadata": {
    "scrolled": true
   },
   "outputs": [],
   "source": [
    "def generate_trades(idxM, strategy_name):\n",
    "    priceLocThrsMin = 0.1 # 价格大于近期的priceLocthrsMin位置\n",
    "    priceLocThrsMax = 0.5 # 价格小于近期的priceLocthrsMax位置\n",
    "    lbMax = 30 # 量比允许最大值\n",
    "    db.strategyBackTestTrades.remove({'strategy_name':strategy_name})\n",
    "    k0  = np.nonzero(dtes>startDate)[0][1]\n",
    "    pnl1 = []\n",
    "    pnl2 = []\n",
    "    pnl3 = []\n",
    "    pnl4 = []\n",
    "    pnl5 = []\n",
    "    tradesCount = []\n",
    "    ll = list(tkrs)\n",
    "    nn = list(name)\n",
    "    dtesUsed = []\n",
    "    f = open(\"output.txt\", \"w\")\n",
    "    sp = close_mtx.shape[1]-1\n",
    "    for k in range(k0, close_mtx.shape[1]):\n",
    "        # 跳空高开， 价格位置\n",
    "        #idxQ = (idxTiaoKongGaoKai[:,k]==True) & idxT & (priceLocL[:, k]>0.1) & (priceLocL[:, k]<0.9)\n",
    "        # 跳空高开\n",
    "        idxQ = (idxTiaoKongGaoKai[:,k]==True) & idxM[:, k] & (priceLocL[:, k]<0.5)\n",
    "        #idxQ = (idxTiaoKongGaoKai[:,k]==True) & idxT & (priceLocL[:, k]<0.2)\n",
    "        #选择高量比\n",
    "        m = np.nonzero(idxQ==True)[0]\n",
    "        lbm = lb[m,k]\n",
    "        lidx = m[np.argsort(lbm)[::-1]] #得到哪些股票在idxQ中存在且量比排名前十\n",
    "        if (len(lidx)>10):\n",
    "            lidx=lidx[:10]\n",
    "        idxQ2 = np.zeros(idxQ.shape)==1\n",
    "        idxQ2[lidx]=True\n",
    "\n",
    "        t  = np.nonzero(idxQ2)[0]\n",
    "        m = np.array(tkrs)[t]\n",
    "        #qt = list(dbt.minuteBarStock.find({'ticker':{'$in': list(m)},'dateAsInt':int(dtes[k]),\"offSetFromMidNight\" :  5370e4, 'lb':{'$lte':50}}, {'ticker':1, 'close':1, 'open':1, 'sectional_open':1, 'lb':1, 'sale1':1, 'dateTime':1, 'StockName':1}).sort('lb',-1).limit(10))\n",
    "        qt = list(dbt.minuteBarStock.find({'ticker':{'$in': list(m)},'dateAsInt':int(dtes[k]),\"offSetFromMidNight\" :  5370e4, 'lb':{'$lte':50}}, {'ticker':1, 'close':1, 'open':1, 'sectional_open':1, 'lb':1, 'sale1':1, 'dateTime':1, 'StockName':1}).sort('lb',-1))\n",
    "        q = []\n",
    "        qs = []\n",
    "        for x in qt:\n",
    "            if (x['sale1']==0):\n",
    "                print('忽略涨停股：',x['StockName'],dtes[k], x['dateTime'])\n",
    "                continue\n",
    "            if (x['close']/x['sectional_open']-1 < 0):\n",
    "                continue\n",
    "            if (k<sp) & (idxZhangtingAtOpen[ll.index(x['ticker']), np.min((k+1, sp))]==True):\n",
    "                print(x['ticker'], dtes[k],' 第二日开盘涨停不买')\n",
    "                continue\n",
    "            if x['ticker'] in qs:\n",
    "                continue\n",
    "            q.append(x)\n",
    "            qs.append(x['ticker'])\n",
    "        if (len(q)==0):\n",
    "            continue\n",
    "        mk = [x['ticker'] for x in q]\n",
    "        q0 = list(dbt.minuteBarStock.find({'ticker':{'$in': mk},'dateAsInt':int(dtes[k]),\"offSetFromMidNight\" : 34260000}, {'ticker':1, 'close':1, 'lb':1}))\n",
    "        qc = list(dbt.minuteBarStock.find({'ticker':{'$in': mk},'dateAsInt':int(dtes[k]),\"offSetFromMidNight\" : 53940000}, {'ticker':1, 'close':1, 'lb':1}))\n",
    "        m0 = [x['ticker'] for x in q0]\n",
    "        mc = [x['ticker'] for x in qc]\n",
    "        index0 = [m0.index(x) for x in mk]\n",
    "        indexc = [mc.index(x) for x in mk]\n",
    "        close0930 = np.array([x['close'] for x in q0])[index0]\n",
    "        close1500 = np.array([x['close'] for x in qc])[indexc]\n",
    "        close0935  = np.array([x['close'] for x in q])\n",
    "        sn = [x['ticker'] for x in q]\n",
    "        idx = [ll.index(x['ticker']) for x in q]\n",
    "        lbm = np.array([x['lb'] for x in q])\n",
    "        pLocL = priceLocL[idx, k]\n",
    "        pLocS = priceLocS[idx, k]\n",
    "        close_today = close_mtx[idx, k]  # 今天收盘\n",
    "        open_today = open_mtx[idx, k]    # 今天开盘\n",
    "        close_tomorrow = close_mtx[idx, np.min((k+1,sp))] # 明天收盘\n",
    "        if k+1<sp: # 明天开盘\n",
    "            open_tomorrow = open_mtx[idx, k+1]\n",
    "        else:\n",
    "            open_tomorrow = close_mtx[idx, sp]\n",
    "        if k+2<sp:\n",
    "            open_p3 = open_mtx[idx, k+2]   # 后天开盘\n",
    "        else:\n",
    "            open_p3 = close_mtx[idx, sp]   # 后天开盘\n",
    "        close_p3 = close_mtx[idx, np.min((k+2,sp))]  # 后天收盘\n",
    "        close_yesterday = close_mtx[idx, k-1]\n",
    "        close_yesterday2 = close_mtx[idx, k-2]\n",
    "        isZhangTing = idxZhangtingAtClose[idx, k]\n",
    "\n",
    "        # r1: 第一天入场到收盘\n",
    "        # r2: 第一天收盘到第二天开盘\n",
    "        # r3: 第二天开盘到第二天收盘\n",
    "        # r4: 第二天收盘到第三天开盘\n",
    "        # r5: 第三天开盘到第三天收盘\n",
    "        r1 = np.mean(close1500/close0935 - 1)\n",
    "        r2 = np.mean(open_tomorrow/close_today  - 1)\n",
    "        r3 = np.mean(close_tomorrow/open_tomorrow - 1)\n",
    "        r4 = np.mean(open_p3/close_tomorrow - 1)\n",
    "        r5 = np.mean(close_p3/open_p3 - 1)\n",
    "        pnl1.append(r1)\n",
    "        pnl2.append(r2)\n",
    "        pnl3.append(r3)\n",
    "        pnl4.append(r4)\n",
    "        pnl5.append(r5)\n",
    "        tradesCount.append(len(close1500))\n",
    "        dtesUsed.append(dtes[k])\n",
    "        for (iq,t) in enumerate(sn):\n",
    "            s = nn[ll.index(t)] + ','+str(dtes[k])+',量比,'+str(np.round(lbm[iq]))+\\\n",
    "            ',价格位置（长期),'+str(np.round(1e4*pLocL[iq])/1e2)+\\\n",
    "            ',价格位置（短期),'+str(np.round(1e4*pLocS[iq])/1e2)+\\\n",
    "            ',cmv2019,'+str(cmv2019[ll.index(t)])+\\\n",
    "            ',cmv2020,'+str(cmv2020[ll.index(t)])+\\\n",
    "            ',cmv2018,'+str(cmv2018[ll.index(t)])+\\\n",
    "            ',第一天涨幅,'+str(close_today[iq]/close_yesterday[iq]-1)+\\\n",
    "            ',开盘涨幅（9:30-9:35）,'+str(close0935[iq]/close0930[iq]-1)+\\\n",
    "            ',入场后到收盘,'+str(close_today[iq]/close0935[iq]-1)+\\\n",
    "            ',第二天开盘涨幅,'+str(open_tomorrow[iq]/close_today[iq]-1)+\\\n",
    "            ',第二天日内涨幅,'+str(close_tomorrow[iq]/open_tomorrow[iq]-1)+\\\n",
    "            ',第二天收盘至第三天开盘,'+str(open_p3[iq]/close_tomorrow[iq]-1)+\\\n",
    "            ',第三天开盘至收盘,'+str(close_p3[iq]/open_p3[iq]-1)+\\\n",
    "            ',昨日涨幅,'+str(close_yesterday[iq]/close_yesterday2[iq]-1)+\\\n",
    "            ',跳空高开幅度,'+str(open_today[iq]/close_yesterday[iq]-1)+\\\n",
    "            ',买入价,'+str(open_tomorrow[iq])+\\\n",
    "            ',卖出价,'+str(close_p3[iq])+\\\n",
    "            ',利润,'+str(close_p3[iq]/open_tomorrow[iq]-1)+\\\n",
    "            ',是否涨停,'+str(isZhangTing[iq])\n",
    "            f.write(s+'\\n')\n",
    "            print(nn[ll.index(t)] + ','+str(dtes[k])+',量比,'+str(np.round(lbm[iq]))+',进场价格:'+str(open_tomorrow[iq])+',出场价格:'+str(close_p3[iq])+',利润,'+str(close_p3[iq]/open_tomorrow[iq]-1))\n",
    "            db.strategyBackTestTrades.insert_one({\n",
    "                'ticker':t,\n",
    "                'name':nn[ll.index(t)], \n",
    "                'dateIn':int(dtes[k]), \n",
    "                'strategy_name':strategy_name})\n",
    "    f.close()\n",
    "    pnl1 = np.array(pnl1)\n",
    "    pnl2 = np.array(pnl2)\n",
    "    pnl3 = np.array(pnl3)\n",
    "    pnl4 = np.array(pnl4)\n",
    "    pnl5 = np.array(pnl5)\n",
    "    pnl1[np.isfinite(pnl1)==False]=0\n",
    "    pnl2[np.isfinite(pnl2)==False]=0\n",
    "    pnl3[np.isfinite(pnl3)==False]=0\n",
    "    pnl4[np.isfinite(pnl4)==False]=0\n",
    "    pnl5[np.isfinite(pnl5)==False]=0\n",
    "    plt.plot(tradesCount)\n",
    "    plt.plot(dtes2Label(dtesUsed), np.cumsum(pnl1), 'k')\n",
    "    plt.plot(dtes2Label(dtesUsed), np.cumsum(pnl2), 'b')\n",
    "    plt.plot(dtes2Label(dtesUsed), np.cumsum(pnl3), 'r')\n",
    "    plt.plot(dtes2Label(dtesUsed), np.cumsum(pnl4), 'c')\n",
    "    plt.plot(dtes2Label(dtesUsed), np.cumsum(pnl5), 'm')\n",
    "    plt.legend(['第一天入场到第一天收盘', '第一天收盘到第二天开盘','第二天开盘到第二天收盘','第二天收盘到第三天开盘','第三天开盘到第三天收盘'])\n",
    "    plt.grid()\n",
    "    rschLib.drawPNL(dtesUsed, pnl3+pnl4+pnl5,  dtes, strategy_name, toDatabase='yes')\n",
    "    rschLib.saveOffStart(strategy_name, off_start)\n",
    "    return"
   ]
  },
  {
   "cell_type": "code",
   "execution_count": null,
   "metadata": {},
   "outputs": [],
   "source": [
    "generate_trades(idxM1, strategy_name)\n",
    "generate_trades(idxM2, strategy_name+'原始')\n"
   ]
  },
  {
   "cell_type": "code",
   "execution_count": null,
   "metadata": {},
   "outputs": [],
   "source": []
  },
  {
   "cell_type": "code",
   "execution_count": null,
   "metadata": {},
   "outputs": [],
   "source": []
  },
  {
   "cell_type": "code",
   "execution_count": null,
   "metadata": {},
   "outputs": [],
   "source": []
  }
 ],
 "metadata": {
  "kernelspec": {
   "display_name": "Python [conda env:research] *",
   "language": "python",
   "name": "conda-env-research-py"
  },
  "language_info": {
   "codemirror_mode": {
    "name": "ipython",
    "version": 3
   },
   "file_extension": ".py",
   "mimetype": "text/x-python",
   "name": "python",
   "nbconvert_exporter": "python",
   "pygments_lexer": "ipython3",
   "version": "3.7.7"
  }
 },
 "nbformat": 4,
 "nbformat_minor": 4
}
