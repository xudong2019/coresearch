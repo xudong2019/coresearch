{
 "cells": [
  {
   "cell_type": "code",
   "execution_count": 1,
   "metadata": {},
   "outputs": [],
   "source": [
    "strategy_name = '系统测试量化1号'"
   ]
  },
  {
   "cell_type": "code",
   "execution_count": 2,
   "metadata": {},
   "outputs": [
    {
     "ename": "KeyboardInterrupt",
     "evalue": "",
     "output_type": "error",
     "traceback": [
      "\u001b[1;31m---------------------------------------------------------------------------\u001b[0m",
      "\u001b[1;31mKeyboardInterrupt\u001b[0m                         Traceback (most recent call last)",
      "\u001b[1;32m<ipython-input-2-7e0b9df4fc54>\u001b[0m in \u001b[0;36m<module>\u001b[1;34m\u001b[0m\n\u001b[0;32m     34\u001b[0m \u001b[1;33m\u001b[0m\u001b[0m\n\u001b[0;32m     35\u001b[0m \u001b[0mk\u001b[0m \u001b[1;33m=\u001b[0m \u001b[0mclose_mtx\u001b[0m\u001b[1;33m==\u001b[0m\u001b[1;36m0\u001b[0m\u001b[1;33m\u001b[0m\u001b[1;33m\u001b[0m\u001b[0m\n\u001b[1;32m---> 36\u001b[1;33m \u001b[0mclose_mtx\u001b[0m \u001b[1;33m=\u001b[0m \u001b[0mzero2pre\u001b[0m\u001b[1;33m(\u001b[0m\u001b[0mclose_mtx\u001b[0m\u001b[1;33m)\u001b[0m\u001b[1;33m\u001b[0m\u001b[1;33m\u001b[0m\u001b[0m\n\u001b[0m\u001b[0;32m     37\u001b[0m \u001b[0mopen_mtx\u001b[0m\u001b[1;33m[\u001b[0m\u001b[0mk\u001b[0m\u001b[1;33m]\u001b[0m\u001b[1;33m=\u001b[0m\u001b[0mclose_mtx\u001b[0m\u001b[1;33m[\u001b[0m\u001b[0mk\u001b[0m\u001b[1;33m]\u001b[0m\u001b[1;33m\u001b[0m\u001b[1;33m\u001b[0m\u001b[0m\n\u001b[0;32m     38\u001b[0m \u001b[0mhigh_mtx\u001b[0m\u001b[1;33m[\u001b[0m\u001b[0mk\u001b[0m\u001b[1;33m]\u001b[0m\u001b[1;33m=\u001b[0m\u001b[0mclose_mtx\u001b[0m\u001b[1;33m[\u001b[0m\u001b[0mk\u001b[0m\u001b[1;33m]\u001b[0m\u001b[1;33m\u001b[0m\u001b[1;33m\u001b[0m\u001b[0m\n",
      "\u001b[1;32m~\\Documents\\github\\web\\dataServer\\funcs.py\u001b[0m in \u001b[0;36mzero2pre\u001b[1;34m(M)\u001b[0m\n\u001b[0;32m      7\u001b[0m     \u001b[1;32mfor\u001b[0m \u001b[0mi\u001b[0m \u001b[1;32min\u001b[0m \u001b[0mrange\u001b[0m\u001b[1;33m(\u001b[0m\u001b[0mM\u001b[0m\u001b[1;33m.\u001b[0m\u001b[0mshape\u001b[0m\u001b[1;33m[\u001b[0m\u001b[1;36m0\u001b[0m\u001b[1;33m]\u001b[0m\u001b[1;33m)\u001b[0m\u001b[1;33m:\u001b[0m\u001b[1;33m\u001b[0m\u001b[1;33m\u001b[0m\u001b[0m\n\u001b[0;32m      8\u001b[0m         \u001b[1;32mfor\u001b[0m \u001b[0mj\u001b[0m \u001b[1;32min\u001b[0m \u001b[0mrange\u001b[0m\u001b[1;33m(\u001b[0m\u001b[1;36m1\u001b[0m\u001b[1;33m,\u001b[0m\u001b[0mM\u001b[0m\u001b[1;33m.\u001b[0m\u001b[0mshape\u001b[0m\u001b[1;33m[\u001b[0m\u001b[1;36m1\u001b[0m\u001b[1;33m]\u001b[0m\u001b[1;33m)\u001b[0m\u001b[1;33m:\u001b[0m\u001b[1;33m\u001b[0m\u001b[1;33m\u001b[0m\u001b[0m\n\u001b[1;32m----> 9\u001b[1;33m             \u001b[1;32mif\u001b[0m \u001b[0mM\u001b[0m\u001b[1;33m[\u001b[0m\u001b[0mi\u001b[0m\u001b[1;33m,\u001b[0m\u001b[0mj\u001b[0m\u001b[1;33m]\u001b[0m\u001b[1;33m==\u001b[0m\u001b[1;36m0\u001b[0m\u001b[1;33m:\u001b[0m\u001b[1;33m\u001b[0m\u001b[1;33m\u001b[0m\u001b[0m\n\u001b[0m\u001b[0;32m     10\u001b[0m                 \u001b[0mM\u001b[0m\u001b[1;33m[\u001b[0m\u001b[0mi\u001b[0m\u001b[1;33m,\u001b[0m\u001b[0mj\u001b[0m\u001b[1;33m]\u001b[0m \u001b[1;33m=\u001b[0m \u001b[0mM\u001b[0m\u001b[1;33m[\u001b[0m\u001b[0mi\u001b[0m\u001b[1;33m,\u001b[0m\u001b[0mj\u001b[0m\u001b[1;33m-\u001b[0m\u001b[1;36m1\u001b[0m\u001b[1;33m]\u001b[0m\u001b[1;33m\u001b[0m\u001b[1;33m\u001b[0m\u001b[0m\n\u001b[0;32m     11\u001b[0m     \u001b[1;32mreturn\u001b[0m \u001b[0mM\u001b[0m\u001b[1;33m\u001b[0m\u001b[1;33m\u001b[0m\u001b[0m\n",
      "\u001b[1;31mKeyboardInterrupt\u001b[0m: "
     ]
    }
   ],
   "source": [
    "import sys\n",
    "sys.path.append(\"C:\\Program Files\\Tinysoft\\Analyse.NET\")\n",
    "sys.path.append(r\"C:\\Users\\xudong\\Documents\\github\\web\\dataServer\")\n",
    "import pymongo\n",
    "import numpy as np\n",
    "import matplotlib.pyplot as plt\n",
    "import pickle\n",
    "import time\n",
    "import datetime\n",
    "import copy\n",
    "from funcs import *\n",
    "import pandas as pd\n",
    "from operator import itemgetter\n",
    "import TSLPy3 as tsl\n",
    "import matplotlib.pyplot as plt\n",
    "from scipy.spatial import ConvexHull, convex_hull_plot_2d\n",
    "import talib\n",
    "import matplotlib.dates as mdates\n",
    "\n",
    "np.set_printoptions(formatter={'float_kind': \"{:.6f}\".format})\n",
    "client = pymongo.MongoClient('localhost', 27017)\n",
    "db = client.quanLiang\n",
    "dbt = client.tinySoftData\n",
    "\n",
    "with open(r\"d:\\pkl\\dailyBarMtx.pkl\", 'rb+') as f:\n",
    "    z = pickle.load(f)\n",
    "dtes = z['dtes']\n",
    "dtes = np.array(dtes).astype(np.int)\n",
    "tkrs = list(z['tkrs'])\n",
    "open_mtx = z['open_mtx']\n",
    "high_mtx = z['high_mtx']\n",
    "low_mtx = z['low_mtx']\n",
    "close_mtx = z['close_mtx']\n",
    "\n",
    "k = close_mtx==0\n",
    "close_mtx = zero2pre(close_mtx)\n",
    "open_mtx[k]=close_mtx[k]\n",
    "high_mtx[k]=close_mtx[k]\n",
    "low_mtx[k]=close_mtx[k]\n",
    "\n",
    "name = z['name']\n",
    "belong = z['belong']\n",
    "shenwan1 = z['shenwan1']\n",
    "shenwan2 = z['shenwan2']\n",
    "shenwan3 = z['shenwan3']\n",
    "vol_mtx = z['vol_mtx']\n",
    "amount_mtx = z['amount_mtx']\n"
   ]
  },
  {
   "cell_type": "code",
   "execution_count": null,
   "metadata": {},
   "outputs": [],
   "source": [
    "maxD = 3"
   ]
  },
  {
   "cell_type": "code",
   "execution_count": null,
   "metadata": {},
   "outputs": [],
   "source": [
    "dd = list(dbt.minuteBarStock.find({'ticker':'SH601988', 'dateAsInt':{'$gte':int(20200106), '$lte':int(20200109)}}, {'dateTime':1}))\n",
    "timeAsFloat = []\n",
    "for x in dd:\n",
    "    l  = str(x['dateTime']+datetime.timedelta(hours=8))\n",
    "    dl = float(l[0:4]+l[5:7]+l[8:10]+'.'+l[11:13]+l[14:16]+l[17:19])\n",
    "    timeAsFloat.append(dl)\n",
    "timeAsFloat=np.round(np.array(sorted(list(set([x - int(x) for x in timeAsFloat])))), 6)\n",
    "timeLabels = []\n",
    "dayOff = []\n",
    "for i in range(maxD):\n",
    "    for x in timeAsFloat:\n",
    "        s = str(int(x*1e4))\n",
    "        if len(s)<4:\n",
    "            s='0'+s\n",
    "        timeLabels.append('第'+str(i+1)+'天'+s[:2]+':'+s[2:4])\n",
    "        dayOff.append(i)\n",
    "timeAsFloat = list(timeAsFloat)*maxD\n",
    "t = np.round(np.array(sorted(list(set([x - int(x) for x in timeAsFloat])))), 6)\n",
    "maxM = t.shape[0] * maxD"
   ]
  },
  {
   "cell_type": "code",
   "execution_count": null,
   "metadata": {},
   "outputs": [],
   "source": [
    "trades = list(db.strategyBackTestTrades.find({'strategy_name':strategy_name}))\n",
    "tradesUsed = []\n",
    "Po = []\n",
    "Ph = []\n",
    "Pl = []\n",
    "Pc = []\n",
    "for (i,x) in enumerate(trades):\n",
    "    #if (x['name'] in list(name)):\n",
    "    p = list(name).index(x['name'])\n",
    "    ticker = tkrs[p]\n",
    "    d0 = x['dateIn']\n",
    "    q = list(dtes).index(d0)\n",
    "    j = np.min((q+maxD, dtes.shape[0]-1))\n",
    "    d1 = dtes[j]\n",
    "    dd = list(dbt.minuteBarStock.find({'ticker':ticker, 'dateAsInt':{'$gte':int(d0), '$lt':int(d1)}}, {'open':1, 'high':1, 'low':1,'close':1, 'dateTime':1}).sort([('dateTime',1)]))\n",
    "    if dd==[]:\n",
    "        continue\n",
    "    tradesUsed.append(x)\n",
    "    q = np.array([x['open'] for x in dd])\n",
    "    print(i, '/', len(trades),len(q),dd[0]['dateTime'],dd[-1]['dateTime'])\n",
    "    z = np.min((len(q),maxM))\n",
    "    m = np.zeros(maxM)\n",
    "    m[:z] = q[:z]\n",
    "    m[z:] = m[z-1]\n",
    "    Po.append(m)\n",
    "    #q = np.array([x['high'] for x in dd])\n",
    "    #z = np.min((len(q),maxM))\n",
    "    #m = np.zeros(maxM)\n",
    "    #m[:z]=q[:z]\n",
    "    #m[z:]=m[z-1]\n",
    "    #Ph.append(m)\n",
    "    #q = np.array([x['low'] for x in dd])\n",
    "    #z = np.min((len(q),maxM))\n",
    "    #m = np.zeros(maxM)\n",
    "    #m[:z]=q[:z]\n",
    "    #m[z:]=m[z-1]\n",
    "    #Pl.append(m)\n",
    "    #q = np.array([x['close'] for x in dd])\n",
    "    #z = np.min((len(q),maxM))\n",
    "    #m = np.zeros(maxM)\n",
    "    #m[:z]=q[:z]\n",
    "    #m[z:]=m[z-1]\n",
    "    #Pc.append(m)\n"
   ]
  },
  {
   "cell_type": "code",
   "execution_count": null,
   "metadata": {},
   "outputs": [],
   "source": [
    "Po = np.array(Po)\n",
    "#Ph = np.array(Ph)\n",
    "#Pl = np.array(Pl)\n",
    "#Pc = np.array(Pc)"
   ]
  },
  {
   "cell_type": "code",
   "execution_count": null,
   "metadata": {},
   "outputs": [],
   "source": [
    "#x = [str(x) for x in dateLabel]\n",
    "#dateLabel\n",
    "#dLabel = np.array([datetime.datetime.strptime(str(int(float(d)*1e4)), '%H%M').date() for d in x])"
   ]
  },
  {
   "cell_type": "code",
   "execution_count": null,
   "metadata": {},
   "outputs": [],
   "source": [
    "r=Po[:,1:]/Po[:,:-1] - 1\n",
    "r=np.hstack((np.zeros((r.shape[0],1)),r))\n",
    "priceChange = np.mean(r,axis=0)\n",
    "priceChangeStd = np.std(r, axis=0)\n",
    "priceChangeStd[np.isfinite(priceChangeStd)==False]=0"
   ]
  },
  {
   "cell_type": "code",
   "execution_count": null,
   "metadata": {
    "scrolled": false
   },
   "outputs": [],
   "source": [
    "plt.rcParams['font.sans-serif'] = [u'SimHei']\n",
    "plt.rcParams['axes.unicode_minus'] = False\n",
    "default_dpi = plt.rcParamsDefault['figure.dpi']\n",
    "plt.rcParams['figure.dpi'] = default_dpi*2\n",
    "plt.figure()\n",
    "plt.title('平均价格随时间变化图')\n",
    "#tp = [240,245,480,505,710,990,1700]\n",
    "tp = [240,245,480,505]\n",
    "legends=[]\n",
    "if np.max(tp)<600:\n",
    "    linewidth=1\n",
    "else:\n",
    "    linewidth=0.25\n",
    "for k in tp:\n",
    "    plt.plot([k, k],[-0.023,0.013], linewidth=linewidth)\n",
    "    legends.append(timeLabels[k])\n",
    "plt.plot(np.cumsum(priceChange),'b-', marker=\"o\", linewidth=0.25,markersize=0.25)\n",
    "plt.plot(priceChangeStd, 'k',  linewidth=0.25, markersize=0.25)\n",
    "legends.append('分钟价格回报率变化累积')\n",
    "legends.append('分钟价格回报率标准差')\n",
    "plt.legend(legends,bbox_to_anchor=(1.0, 1.0), loc=2, borderaxespad=0.)\n",
    "plt.grid()\n",
    "db.strategyMinuteBar.update_one({'strategy_name':strategy_name}, {'$set':{\n",
    "    'labels':timeLabels,\n",
    "    'priceChange': list(np.cumsum(priceChange)),\n",
    "    'priceChangeStd': list(priceChangeStd),\n",
    "    'concernPoints': tp,\n",
    "    'priceType': '开盘价'\n",
    "}},upsert=True)"
   ]
  },
  {
   "cell_type": "code",
   "execution_count": null,
   "metadata": {},
   "outputs": [],
   "source": [
    "trades"
   ]
  },
  {
   "cell_type": "code",
   "execution_count": null,
   "metadata": {},
   "outputs": [],
   "source": [
    "tradeArea=[240,505]\n",
    "h = np.max(np.cumsum(r[:, :tradeArea[0]], axis=1), axis=1)\n",
    "isZhangtingBeforeTradeArea = h>=0.05\n",
    "p = np.sum(r[:, tradeArea[0]:tradeArea[1]], axis=1)\n",
    "u = np.quantile(p,0.9)\n",
    "l = np.quantile(p,0.1)\n",
    "rGood = r[p>=u,:]\n",
    "rBad = r[p<=l, :]\n",
    "for (i,x) in enumerate(tradesUsed):\n",
    "    if p[i]>u:\n",
    "        print('good trade:', x['name'], x['dateIn'],p[i],isZhangtingBeforeTradeArea[i])\n",
    "    if p[i]<l:\n",
    "        print('bad trade:', x['name'], x['dateIn'], p[i],isZhangtingBeforeTradeArea[i])\n"
   ]
  },
  {
   "cell_type": "code",
   "execution_count": null,
   "metadata": {},
   "outputs": [],
   "source": [
    "def drawPriceChange(r, title='平均价格随时间变化', tp=[240,245,480,505]):\n",
    "    priceChange = np.mean(r,axis=0)\n",
    "    priceChangeStd = np.std(r, axis=0)\n",
    "    priceChangeStd[np.isfinite(priceChangeStd)==False]=0\n",
    "    plt.figure()\n",
    "    plt.title(title)\n",
    "    legends=[]\n",
    "    if np.max(tp)<600:\n",
    "        linewidth=1\n",
    "    else:\n",
    "        linewidth=0.25\n",
    "    for k in tp:\n",
    "        plt.plot([k, k],[-0.023,0.013], linewidth=linewidth)\n",
    "        legends.append(timeLabels[k])\n",
    "    plt.plot(np.cumsum(priceChange),'b-', marker=\"o\", linewidth=0.25,markersize=0.25)\n",
    "    plt.plot(priceChangeStd, 'k',  linewidth=0.25, markersize=0.25)\n",
    "    legends.append('分钟价格回报率变化累积')\n",
    "    legends.append('分钟价格回报率标准差')\n",
    "    plt.legend(legends,bbox_to_anchor=(1.0, 1.0), loc=2, borderaxespad=0.)\n",
    "    plt.grid()\n",
    "    db.strategyMinuteBar.update_one({'strategy_name':strategy_name, title:title}, {'$set':{\n",
    "        'labels':timeLabels,\n",
    "        'priceChange': list(np.cumsum(priceChange)),\n",
    "        'priceChangeStd': list(priceChangeStd),\n",
    "        'concernPoints': tp,\n",
    "        'priceType': '开盘价'\n",
    "    }},upsert=True)\n",
    "drawPriceChange(rGood, title='高盈利交易:'+str(rGood.shape[0])+'笔')\n",
    "drawPriceChange(rBad, title='高亏损交易'+str(rBad.shape[0])+'笔')\n"
   ]
  },
  {
   "cell_type": "code",
   "execution_count": null,
   "metadata": {},
   "outputs": [],
   "source": [
    "priceChangeBad = np.mean(r,axis=0)\n",
    "priceChangeBadStd = np.std(r, axis=0)\n",
    "priceChangeBadStd[np.isfinite(priceChangeBadStd)==False]=0\n",
    "\n",
    "plt.figure()\n",
    "plt.title('平均价格随时间变化图')\n",
    "#tp = [240,245,480,505,710,990,1700]\n",
    "tp = [240,245,480,505]\n",
    "legends=[]\n",
    "if np.max(tp)<600:\n",
    "    linewidth=1\n",
    "else:\n",
    "    linewidth=0.25\n",
    "for k in tp:\n",
    "    plt.plot([k, k],[-0.023,0.013], linewidth=linewidth)\n",
    "    legends.append(timeLabels[k])\n",
    "plt.plot(np.cumsum(priceChange),'b-', marker=\"o\", linewidth=0.25,markersize=0.25)\n",
    "plt.plot(priceChangeStd, 'k',  linewidth=0.25, markersize=0.25)\n",
    "legends.append('分钟价格回报率变化累积')\n",
    "legends.append('分钟价格回报率标准差')\n",
    "plt.legend(legends,bbox_to_anchor=(1.0, 1.0), loc=2, borderaxespad=0.)\n",
    "plt.grid()\n",
    "db.strategyMinuteBar.update_one({'strategy_name':strategy_name}, {'$set':{\n",
    "    'labels':timeLabels,\n",
    "    'priceChange': list(np.cumsum(priceChange)),\n",
    "    'priceChangeStd': list(priceChangeStd),\n",
    "    'concernPoints': tp,\n",
    "    'priceType': '开盘价'\n",
    "}},upsert=True)"
   ]
  },
  {
   "cell_type": "code",
   "execution_count": null,
   "metadata": {},
   "outputs": [],
   "source": [
    "inTime = 240\n",
    "otTime = 505\n"
   ]
  },
  {
   "cell_type": "code",
   "execution_count": null,
   "metadata": {},
   "outputs": [],
   "source": [
    "def getPnl():\n",
    "    dd = list(dtes)\n",
    "    nn = list(name)\n",
    "    pnl = []\n",
    "    l = [x['dateIn'] for x in trades]\n",
    "    c = {}\n",
    "    for q in l:\n",
    "        c[q]=l.count(q)\n",
    "    for (i,t) in enumerate(trades):\n",
    "        n = t['name']\n",
    "        j = dd.index(t['dateIn'])\n",
    "        print(t)\n",
    "        jin = j + dayOff[inTime]\n",
    "        jot = j + dayOff[otTime]\n",
    "        if (jin>=len(dtes)):\n",
    "            jin = len(dtes)-1\n",
    "        if (jot>=len(dtes)):\n",
    "            jot = len(dtes)-1\n",
    "        din = dtes[jin]+timeAsFloat[inTime]\n",
    "        dot = dtes[jot]+timeAsFloat[otTime]\n",
    "        dtIn=datetime.datetime.strptime(str(din), '%Y%m%d.%H%M')+datetime.timedelta(hours=-8)\n",
    "        dtOt=datetime.datetime.strptime(str(dot), '%Y%m%d.%H%M')+datetime.timedelta(hours=-8)\n",
    "        q1 = dbt.minuteBarStock.find_one({'ticker':tkrs[nn.index(n)], 'dateTime':dtIn},{'ticker':1, 'name':1, 'open':1})\n",
    "        q2 = dbt.minuteBarStock.find_one({'ticker':tkrs[nn.index(n)], 'dateTime':dtOt},{'ticker':1, 'name':1, 'open':1})\n",
    "        if q1==None:\n",
    "            continue\n",
    "        if q2==None:\n",
    "            continue\n",
    "        r = (q2['open']/q1['open']-1)/c[t['dateIn']]\n",
    "        print(t['dateIn'], n, dtIn, dtOt,r)\n",
    "        pnl.append(r)\n",
    "    return pnl"
   ]
  },
  {
   "cell_type": "code",
   "execution_count": null,
   "metadata": {},
   "outputs": [],
   "source": [
    "pnl = getPnl()"
   ]
  },
  {
   "cell_type": "code",
   "execution_count": 18,
   "metadata": {},
   "outputs": [
    {
     "data": {
      "text/plain": [
       "[<matplotlib.lines.Line2D at 0x23f9a7ad408>]"
      ]
     },
     "execution_count": 18,
     "metadata": {},
     "output_type": "execute_result"
    },
    {
     "data": {
      "image/png": "[encoded data removed]",
      "text/plain": [
       "<Figure size 1200x800 with 1 Axes>"
      ]
     },
     "metadata": {
      "needs_background": "light"
     },
     "output_type": "display_data"
    }
   ],
   "source": [
    "plt.plot(np.cumsum(pnl))"
   ]
  },
  {
   "cell_type": "code",
   "execution_count": 19,
   "metadata": {},
   "outputs": [],
   "source": [
    "# %load_ext line_profiler\n",
    "# #%lprun -f getPnl getPnl()"
   ]
  },
  {
   "cell_type": "code",
   "execution_count": null,
   "metadata": {},
   "outputs": [],
   "source": []
  }
 ],
 "metadata": {
  "kernelspec": {
   "display_name": "Python [conda env:research] *",
   "language": "python",
   "name": "conda-env-research-py"
  },
  "language_info": {
   "codemirror_mode": {
    "name": "ipython",
    "version": 3
   },
   "file_extension": ".py",
   "mimetype": "text/x-python",
   "name": "python",
   "nbconvert_exporter": "python",
   "pygments_lexer": "ipython3",
   "version": "3.7.7"
  }
 },
 "nbformat": 4,
 "nbformat_minor": 4
}
