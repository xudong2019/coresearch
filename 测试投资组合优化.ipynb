{
 "cells": [
  {
   "cell_type": "code",
   "execution_count": 1,
   "metadata": {},
   "outputs": [
    {
     "name": "stderr",
     "output_type": "stream",
     "text": [
      "C:\\ProgramData\\Anaconda3\\envs\\research\\lib\\site-packages\\ipykernel_launcher.py:34: RuntimeWarning: divide by zero encountered in true_divide\n",
      "C:\\ProgramData\\Anaconda3\\envs\\research\\lib\\site-packages\\ipykernel_launcher.py:34: RuntimeWarning: invalid value encountered in true_divide\n",
      "C:\\ProgramData\\Anaconda3\\envs\\research\\lib\\site-packages\\ipykernel_launcher.py:38: RuntimeWarning: invalid value encountered in true_divide\n"
     ]
    }
   ],
   "source": [
    "# 测试上涨下跌家数与股市关系\n",
    "import pymongo\n",
    "import numpy as np\n",
    "import matplotlib.pyplot as plt\n",
    "import pickle\n",
    "import time\n",
    "import datetime\n",
    "import copy\n",
    "from funcs import *\n",
    "import pandas as pd\n",
    "import sys\n",
    "from operator import itemgetter\n",
    "import matplotlib.pyplot as plt\n",
    "from scipy.spatial import ConvexHull, convex_hull_plot_2d\n",
    "\n",
    "np.set_printoptions(formatter={'float_kind': \"{:.6f}\".format})\n",
    "client = pymongo.MongoClient('localhost', 27017)\n",
    "db = client.quanLiang\n",
    "\n",
    "with open('dailyBarMtx.pkl', 'rb+') as f:\n",
    "    z = pickle.load(f)\n",
    "dtes = z['dtes']\n",
    "dtes = np.array(dtes).astype(np.int)\n",
    "tkrs = list(z['tkrs'])\n",
    "open_mtx = z['open_mtx']\n",
    "high_mtx = z['high_mtx']\n",
    "low_mtx = z['low_mtx']\n",
    "close_mtx = z['close_mtx']\n",
    "name = z['name']\n",
    "belong = z['belong']\n",
    "shenwan1 = z['shenwan1']\n",
    "shenwan2 = z['shenwan2']\n",
    "shenwan3 = z['shenwan3']\n",
    "return_mtx = close_mtx[:,1:] / close_mtx[:,:-1] - 1\n",
    "m = np.zeros((len(tkrs),1))\n",
    "return_mtx = np.concatenate((m, return_mtx),axis=1)\n",
    "return_mtx[np.isfinite(return_mtx)==False] = 0\n",
    "return_mtx_intraday = close_mtx / open_mtx - 1\n",
    "return_mtx_intraday[np.isfinite(return_mtx_intraday)==False] = 0\n"
   ]
  },
  {
   "cell_type": "code",
   "execution_count": 17,
   "metadata": {},
   "outputs": [],
   "source": [
    "targetTickers=['SH603288','SZ300122','SH600436','SZ000858','SZ002271','SZ002475','SZ000967','SH600809','SZ000661','SH603517','SZ000596','SZ000568','SH601100','SZ002867','SZ300413','SZ000963','SZ002127','SH600466','SH600340','SZ000671','SZ000672','SH600031','SZ300628','SH603658','SZ000425','SH600801','SZ300003','SZ300383','SZ002373','SZ000975','SH603568']\n",
    "ind = [list(tkrs).index(x) for x in targetTickers]\n",
    "return_mtx = return_mtx[ind]"
   ]
  },
  {
   "cell_type": "code",
   "execution_count": 3,
   "metadata": {},
   "outputs": [],
   "source": [
    "import pandas as pd\n"
   ]
  },
  {
   "cell_type": "code",
   "execution_count": 18,
   "metadata": {},
   "outputs": [],
   "source": [
    "ret = pd.DataFrame(return_mtx)"
   ]
  },
  {
   "cell_type": "code",
   "execution_count": 22,
   "metadata": {},
   "outputs": [],
   "source": [
    "r = np.sum(return_mtx[:,-500:], axis=1)\n",
    "c = np.cov(return_mtx[:, -500:])\n"
   ]
  },
  {
   "cell_type": "code",
   "execution_count": 10,
   "metadata": {},
   "outputs": [
    {
     "data": {
      "text/plain": [
       "(4504, 1)"
      ]
     },
     "execution_count": 10,
     "metadata": {},
     "output_type": "execute_result"
    }
   ],
   "source": [
    "C = np.cov(np.matrix(c))\n",
    "R = np.matrix(r).T\n",
    "w = np.linalg.pinv(C) * R\n",
    "w.shape"
   ]
  },
  {
   "cell_type": "code",
   "execution_count": null,
   "metadata": {},
   "outputs": [],
   "source": [
    "x = quadprog(C1, C2, C3, C4, C5, C6, C7, C8, ...)\n",
    "The equivalent in Python will be:\n",
    "\n",
    "import numpy\n",
    "import cvxopt\n",
    "n = C1.shape[1]   # This is for readability only    \n",
    "\n",
    "P = C1\n",
    "q = C2\n",
    "G = numpy.vstack([C3, -numpy.eye(n), numpy.eye(n)])\n",
    "h = numpy.hstack([C4, -C7, C8])\n",
    "A = C5\n",
    "b = C6\n",
    "\n",
    "sol = cvxopt.solvers.qp(cvxopt.matrix(P), cvxopt.matrix(q), cvxopt.matrix(G), cvxopt.matrix(h), cvxopt.matrix(A), cvxopt.matrix(b))\n",
    "x = sol['x']"
   ]
  }
 ],
 "metadata": {
  "kernelspec": {
   "display_name": "Python [conda env:research] *",
   "language": "python",
   "name": "conda-env-research-py"
  },
  "language_info": {
   "codemirror_mode": {
    "name": "ipython",
    "version": 3
   },
   "file_extension": ".py",
   "mimetype": "text/x-python",
   "name": "python",
   "nbconvert_exporter": "python",
   "pygments_lexer": "ipython3",
   "version": "3.7.7"
  }
 },
 "nbformat": 4,
 "nbformat_minor": 4
}
